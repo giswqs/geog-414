{
  "cells": [
    {
      "cell_type": "markdown",
      "metadata": {},
      "source": [
        "# Submission Instructions\n",
        "\n",
        "1. Click on the ![Open In Colab](https://colab.research.google.com/assets/colab-badge.svg) button at the top of each lab notebook. This will open the lab in Google Colab.\n",
        "2. Copy the notebook to your Google Drive. The notebook will be saved to **My Drive -> Colab Notebooks ->  Copy of lab_x.ipynb**. You can change the filename back to **lab_x.ipynb**.\n",
        "\n",
        "    ![](https://i.imgur.com/1bxdiTz.png)\n",
        "3. Follow the directions on the lab notebook and write code to complete the exercises.\n",
        "4. When you are finished, Click on **Runtime -> Restart and run all**. Make sure that you notebook runs well and all code cell outputs are shown. \n",
        "\n",
        "    ![](https://i.imgur.com/6juNLRG.png)\n",
        "\n",
        "5. Click on the **Share** button in the top right corner and change the notebook general access from Restricted to **Anyone with the link**. \n",
        "\n",
        "    ![](https://i.imgur.com/FmNZSdx.png)\n",
        "6. Click on the **Copy link** button.\n",
        "\n",
        "    ![](https://i.imgur.com/3v1DNoj.png)\n",
        "7. Open Chrome Incognito mode, paste the link to the address bar and press Enter. Make sure that you can preview the notebook content. Otherwise, you might need to save a copy of the notebook from Colab to your Google Drive. \n",
        "8. Copy the link and paste it to the Lab Submission page."
      ]
    }
  ],
  "metadata": {
    "language_info": {
      "name": "python"
    }
  },
  "nbformat": 4,
  "nbformat_minor": 2
}
