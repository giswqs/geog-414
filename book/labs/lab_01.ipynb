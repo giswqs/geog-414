{
  "cells": [
    {
      "cell_type": "markdown",
      "metadata": {},
      "source": [
        "# Lab 1\n",
        "\n",
        "[![Open In Colab](https://colab.research.google.com/assets/colab-badge.svg)](https://colab.research.google.com/github/giswqs/geog-414/blob/master/book/labs/lab_01.ipynb)\n",
        "\n",
        "## Submission requirements\n",
        "\n",
        "1. Upload a screenshot of your map for each question.\n",
        "2. Provide a link to your notebook on Colab. See instructions [here](https://geog-414.gishub.org/book/labs/instructions.html).\n",
        "\n",
        "## Question 1\n",
        "\n",
        "To complete this question, follow the steps below:\n",
        "\n",
        "1. Install [leafmap](https://leafmap.org) and create a Jupyter Notebook.\n",
        "2. Copy and paste the code cell provided below into your notebook.\n",
        "3. Replace the text `Made by Your Name` with your actual name.\n",
        "4. If desired, update the logo with your own image.\n",
        "5. Run the code cell to generate an interactive map.\n",
        "6. Ensure that your name is visible on the map.\n",
        "7. Take a screenshot of your map and save it as an image.\n",
        "8. Submit your screenshot and the link to your Colab notebook.\n"
      ]
    },
    {
      "cell_type": "code",
      "execution_count": null,
      "metadata": {},
      "outputs": [],
      "source": [
        "import leafmap\n",
        "\n",
        "# Creat an interactive map\n",
        "m = leafmap.Map(center=[20, 0], zoom=2, height='600px')\n",
        "# Add basemap\n",
        "m.add_basemap(\"CartoDB.DarkMatter\")\n",
        "# Add text to the map\n",
        "text = \"Made by Your Name\"\n",
        "m.add_text(text, fontsize=20, position='bottomright')\n",
        "# Add a logo to the map\n",
        "logo = 'https://i.imgur.com/at4Qprk.png'\n",
        "m.add_image(logo, position='bottomright')\n",
        "# Add GeoJSON data to the map\n",
        "cables = 'https://opengeos.org/data/vector/cables.geojson'\n",
        "callback = lambda feat: {\"color\": feat[\"properties\"][\"color\"], \"weight\": 1}\n",
        "m.add_geojson(cables, layer_name=\"Cable lines\", style_callback=callback)\n",
        "# Display the map\n",
        "m"
      ]
    },
    {
      "cell_type": "markdown",
      "metadata": {},
      "source": [
        "![](https://i.imgur.com/ZfZCdhL.png)"
      ]
    }
  ],
  "metadata": {
    "kernelspec": {
      "display_name": "Python 3",
      "language": "python",
      "name": "python3"
    },
    "language_info": {
      "codemirror_mode": {
        "name": "ipython",
        "version": 3
      },
      "file_extension": ".py",
      "mimetype": "text/x-python",
      "name": "python",
      "nbconvert_exporter": "python",
      "pygments_lexer": "ipython3",
      "version": "3.11.6"
    }
  },
  "nbformat": 4,
  "nbformat_minor": 5
}
