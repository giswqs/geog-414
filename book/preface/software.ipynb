{
 "cells": [
  {
   "cell_type": "markdown",
   "id": "0",
   "metadata": {},
   "source": [
    "# Software\n",
    "\n",
    "## Software Tools\n",
    "\n",
    "- [Miniconda](https://docs.conda.io/en/latest/miniconda.html) or [Anaconda](https://www.anaconda.com/)\n",
    "- [Visual Studio Code](https://code.visualstudio.com/)\n",
    "- [Git](https://git-scm.com/downloads)\n",
    "- [QGIS](https://www.qgis.org/)\n",
    "\n",
    "## Cloud Computing Platforms\n",
    "\n",
    "- [Google Earth Engine](https://earthengine.google.com/)\n",
    "- [Google Colab](https://research.google.com/colaboratory)\n",
    "- [Amazon SageMaker Studio Lab](https://studiolab.sagemaker.aws)\n",
    "- [Microsoft Planetary Computer](https://planetarycomputer.microsoft.com)"
   ]
  }
 ],
 "metadata": {
  "kernelspec": {
   "display_name": "Python 3",
   "language": "python",
   "name": "python3"
  }
 },
 "nbformat": 4,
 "nbformat_minor": 5
}
