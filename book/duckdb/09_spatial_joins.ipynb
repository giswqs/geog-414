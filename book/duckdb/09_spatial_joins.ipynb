{
  "cells": [
    {
      "cell_type": "markdown",
      "metadata": {},
      "source": [
        "# Spatial Joins\n",
        "\n",
        "## Introduction\n",
        "\n",
        "Spatial joins are the bread-and-butter of spatial databases. They allow you to combine information from different tables by using spatial relationships as the join key. Much of what we think of as “standard GIS analysis” can be expressed as spatial joins.\n",
        "\n",
        "## Installation\n",
        "\n",
        "Uncomment the following cell to install the required packages if needed."
      ]
    },
    {
      "cell_type": "code",
      "execution_count": null,
      "metadata": {},
      "outputs": [],
      "source": [
        "# %pip install duckdb leafmap"
      ]
    },
    {
      "cell_type": "markdown",
      "metadata": {},
      "source": [
        "## Library Import and Configuration"
      ]
    },
    {
      "cell_type": "code",
      "execution_count": null,
      "metadata": {},
      "outputs": [],
      "source": [
        "import duckdb\n",
        "import leafmap"
      ]
    },
    {
      "cell_type": "markdown",
      "metadata": {},
      "source": [
        "## Sample Data\n",
        "\n",
        "The datasets in the database are in NAD83 / UTM zone 18N projection, EPSG:26918."
      ]
    },
    {
      "cell_type": "code",
      "execution_count": null,
      "metadata": {},
      "outputs": [],
      "source": [
        "url = \"https://opengeos.org/data/duckdb/nyc_data.db.zip\"\n",
        "leafmap.download_file(url, unzip=True)"
      ]
    },
    {
      "cell_type": "markdown",
      "metadata": {},
      "source": [
        "## Connecting to DuckDB\n",
        "\n",
        "Connect jupysql to DuckDB using a SQLAlchemy-style connection string. You may either connect to an in memory DuckDB, or a file backed db."
      ]
    },
    {
      "cell_type": "code",
      "execution_count": null,
      "metadata": {},
      "outputs": [],
      "source": [
        "con = duckdb.connect('nyc_data.db')"
      ]
    },
    {
      "cell_type": "code",
      "execution_count": null,
      "metadata": {},
      "outputs": [],
      "source": [
        "con.install_extension('spatial')\n",
        "con.load_extension('spatial')"
      ]
    },
    {
      "cell_type": "code",
      "execution_count": null,
      "metadata": {},
      "outputs": [],
      "source": [
        "con.sql(\"SHOW TABLES;\")"
      ]
    },
    {
      "cell_type": "markdown",
      "metadata": {},
      "source": [
        "## Intersection\n",
        "\n",
        "In the previous section, we explored spatial relationships using a two-step process: first we extracted a subway station point for ‘Broad St’; then, we used that point to ask further questions such as “what neighborhood is the ‘Broad St’ station in?”\n",
        "\n",
        "Using a spatial join, we can answer the question in one step, retrieving information about the subway station and the neighborhood that contains it. \n",
        "\n",
        "Let's start by looking at the subway stations and neighborhoods separately."
      ]
    },
    {
      "cell_type": "code",
      "execution_count": null,
      "metadata": {},
      "outputs": [],
      "source": [
        "con.sql(\"FROM nyc_neighborhoods SELECT * LIMIT 5;\")"
      ]
    },
    {
      "cell_type": "code",
      "execution_count": null,
      "metadata": {},
      "outputs": [],
      "source": [
        "con.sql(\"FROM nyc_subway_stations SELECT * LIMIT 5;\")"
      ]
    },
    {
      "cell_type": "markdown",
      "metadata": {},
      "source": [
        "Let's find out what neighborhood the `Broad St` station is in:"
      ]
    },
    {
      "cell_type": "code",
      "execution_count": null,
      "metadata": {},
      "outputs": [],
      "source": [
        "con.sql(\"\"\"\n",
        "SELECT\n",
        "  subways.name AS subway_name,\n",
        "  neighborhoods.name AS neighborhood_name,\n",
        "  neighborhoods.boroname AS borough\n",
        "FROM nyc_neighborhoods AS neighborhoods\n",
        "JOIN nyc_subway_stations AS subways\n",
        "ON ST_Intersects(neighborhoods.geom, subways.geom)\n",
        "WHERE subways.NAME = 'Broad St';\n",
        "\"\"\")"
      ]
    },
    {
      "cell_type": "markdown",
      "metadata": {},
      "source": [
        "Note that the subway stations table has a `color` column. "
      ]
    },
    {
      "cell_type": "code",
      "execution_count": null,
      "metadata": {},
      "outputs": [],
      "source": [
        "con.sql(\"\"\"\n",
        "SELECT DISTINCT COLOR FROM nyc_subway_stations;\n",
        "\"\"\")"
      ]
    },
    {
      "cell_type": "markdown",
      "metadata": {},
      "source": [
        "Let's find out what neighborhood the `RED` subway stations are in:"
      ]
    },
    {
      "cell_type": "code",
      "execution_count": null,
      "metadata": {},
      "outputs": [],
      "source": [
        "con.sql(\"\"\"\n",
        "SELECT\n",
        "  subways.name AS subway_name,\n",
        "  neighborhoods.name AS neighborhood_name,\n",
        "  neighborhoods.boroname AS borough\n",
        "FROM nyc_neighborhoods AS neighborhoods\n",
        "JOIN nyc_subway_stations AS subways\n",
        "ON ST_Intersects(neighborhoods.geom, subways.geom)\n",
        "WHERE subways.color = 'RED';\n",
        "\"\"\")"
      ]
    },
    {
      "cell_type": "markdown",
      "metadata": {},
      "source": [
        "## Distance Within\n",
        "\n",
        "One of the common spatial operations is to find all the features within a certain distance of another feature. For example, you might want to find all the subway stations within 500 meters of a bike share station. Let’s explore the racial geography of New York using distance queries.\n",
        "\n",
        "First, let’s get the baseline racial make-up of the city."
      ]
    },
    {
      "cell_type": "code",
      "execution_count": null,
      "metadata": {},
      "outputs": [],
      "source": [
        "con.sql(\"\"\"\n",
        "SELECT\n",
        "  100.0 * Sum(popn_white) / Sum(popn_total) AS white_pct,\n",
        "  100.0 * Sum(popn_black) / Sum(popn_total) AS black_pct,\n",
        "  Sum(popn_total) AS popn_total\n",
        "FROM nyc_census_blocks;\n",
        "\"\"\")"
      ]
    },
    {
      "cell_type": "markdown",
      "metadata": {},
      "source": [
        "So, of the 8M people in New York, about 44% are recorded as “white” and 26% are recorded as “black”.\n",
        "\n",
        "Note that the contents of the `nyc_subway_stations` table routes field is what we are interested in to find the A-train. The values in there are a little complex."
      ]
    },
    {
      "cell_type": "code",
      "execution_count": null,
      "metadata": {},
      "outputs": [],
      "source": [
        "con.sql(\"\"\"\n",
        "SELECT DISTINCT routes FROM nyc_subway_stations;\n",
        "\"\"\")"
      ]
    },
    {
      "cell_type": "markdown",
      "metadata": {},
      "source": [
        "So to find the A-train, we will want any row in `routes` that has an ‘A’ in it. We can do this a number of ways, but here we will use the fact that **strpos(routes,'A')** will return a non-zero number only if ‘A’ is in the `routes` field."
      ]
    },
    {
      "cell_type": "code",
      "execution_count": null,
      "metadata": {},
      "outputs": [],
      "source": [
        "con.sql(\"\"\"\n",
        "SELECT DISTINCT routes\n",
        "FROM nyc_subway_stations AS subways\n",
        "WHERE strpos(subways.routes,'A') > 0;\n",
        "\"\"\")"
      ]
    },
    {
      "cell_type": "markdown",
      "metadata": {},
      "source": [
        "Let’s summarize the racial make-up of within 200 meters of the A-train line."
      ]
    },
    {
      "cell_type": "code",
      "execution_count": null,
      "metadata": {},
      "outputs": [],
      "source": [
        "con.sql(\"\"\"\n",
        "SELECT\n",
        "  100.0 * Sum(popn_white) / Sum(popn_total) AS white_pct,\n",
        "  100.0 * Sum(popn_black) / Sum(popn_total) AS black_pct,\n",
        "  Sum(popn_total) AS popn_total\n",
        "FROM nyc_census_blocks AS census\n",
        "JOIN nyc_subway_stations AS subways\n",
        "ON ST_DWithin(census.geom, subways.geom, 200)\n",
        "WHERE strpos(subways.routes,'A') > 0;\n",
        "\"\"\")"
      ]
    },
    {
      "cell_type": "markdown",
      "metadata": {},
      "source": [
        "So the racial make-up along the A-train isn’t radically different from the make-up of New York City as a whole.\n",
        "\n",
        "## Advanced Join\n",
        "\n",
        "In the last section we saw that the A-train didn’t serve a population that differed much from the racial make-up of the rest of the city. Are there any trains that have a non-average racial make-up?\n",
        "\n",
        "To answer that question, we’ll add another join to our query, so that we can simultaneously calculate the make-up of many subway lines at once. To do that, we’ll need to create a new table that enumerates all the lines we want to summarize."
      ]
    },
    {
      "cell_type": "code",
      "execution_count": null,
      "metadata": {},
      "outputs": [],
      "source": [
        "con.sql(\"\"\"\n",
        "CREATE OR REPLACE TABLE subway_lines ( route char(1) );\n",
        "INSERT INTO subway_lines (route) VALUES\n",
        "  ('A'),('B'),('C'),('D'),('E'),('F'),('G'),\n",
        "  ('J'),('L'),('M'),('N'),('Q'),('R'),('S'),\n",
        "  ('Z'),('1'),('2'),('3'),('4'),('5'),('6'),\n",
        "  ('7');\n",
        "\"\"\")"
      ]
    },
    {
      "cell_type": "markdown",
      "metadata": {},
      "source": [
        "Now we can join the table of subway lines onto our original query."
      ]
    },
    {
      "cell_type": "code",
      "execution_count": null,
      "metadata": {},
      "outputs": [],
      "source": [
        "con.sql(\"\"\"\n",
        "SELECT\n",
        "  lines.route,\n",
        "  100.0 * Sum(popn_white) / Sum(popn_total) AS white_pct,\n",
        "  100.0 * Sum(popn_black) / Sum(popn_total) AS black_pct,\n",
        "  Sum(popn_total) AS popn_total\n",
        "FROM nyc_census_blocks AS census\n",
        "JOIN nyc_subway_stations AS subways\n",
        "ON ST_DWithin(census.geom, subways.geom, 200)\n",
        "JOIN subway_lines AS lines\n",
        "ON strpos(subways.routes, lines.route) > 0\n",
        "GROUP BY lines.route\n",
        "ORDER BY black_pct DESC;\n",
        "\"\"\")"
      ]
    },
    {
      "cell_type": "markdown",
      "metadata": {},
      "source": [
        "As before, the joins create a virtual table of all the possible combinations available within the constraints of the JOIN ON restrictions, and those rows are then fed into a GROUP summary. The spatial magic is in the ST_DWithin function, that ensures only census blocks close to the appropriate subway stations are included in the calculation."
      ]
    },
    {
      "cell_type": "markdown",
      "metadata": {},
      "source": [
        "## Projection"
      ]
    },
    {
      "cell_type": "markdown",
      "metadata": {},
      "source": [
        "DuckDB provides the `ST_Transform` function to transform geometries from one projection to another. The function takes three arguments: the geometry to transform, and the EPSG code of the projection of the input geometry, and the EPSG code of the projection to transform to."
      ]
    },
    {
      "cell_type": "code",
      "execution_count": null,
      "metadata": {},
      "outputs": [],
      "source": [
        "url = 'https://opengeos.org/data/duckdb/cities.parquet'\n",
        "con.sql(f\"SELECT * EXCLUDE geometry, ST_GeomFromWKB(geometry) AS geometry FROM '{url}'\")"
      ]
    },
    {
      "cell_type": "markdown",
      "metadata": {},
      "source": [
        "Let's convert the data from EPSG:4326 to [EPSG:5070](https://epsg.io/5070-1252) (NAD83 / Conus Albers)."
      ]
    },
    {
      "cell_type": "code",
      "execution_count": null,
      "metadata": {},
      "outputs": [],
      "source": [
        "con.sql(f\"\"\"\n",
        "SELECT * EXCLUDE geometry, ST_Transform(ST_GeomFromWKB(geometry), 'EPSG:4326', 'EPSG:5070', true) AS geometry FROM '{url}'\n",
        "\"\"\")"
      ]
    },
    {
      "cell_type": "markdown",
      "metadata": {},
      "source": [
        "## Function List\n",
        "\n",
        "https://duckdb.org/docs/archive/0.9.2/extensions/spatial#spatial-relationships\n",
        "\n",
        "![](https://i.imgur.com/ogJojVX.png)"
      ]
    },
    {
      "cell_type": "markdown",
      "metadata": {},
      "source": [
        "## References\n",
        "\n",
        "- [Introduction to PostGIS - Spatial Joins](https://postgis.net/workshops/postgis-intro/joins.html)"
      ]
    }
  ],
  "metadata": {
    "hide_input": false,
    "kernelspec": {
      "display_name": "Python 3",
      "language": "python",
      "name": "python3"
    },
    "language_info": {
      "codemirror_mode": {
        "name": "ipython",
        "version": 3
      },
      "file_extension": ".py",
      "mimetype": "text/x-python",
      "name": "python",
      "nbconvert_exporter": "python",
      "pygments_lexer": "ipython3",
      "version": "3.11.6"
    },
    "toc": {
      "base_numbering": 1,
      "nav_menu": {},
      "number_sections": true,
      "sideBar": true,
      "skip_h1_title": false,
      "title_cell": "Table of Contents",
      "title_sidebar": "Contents",
      "toc_cell": false,
      "toc_position": {},
      "toc_section_display": true,
      "toc_window_display": true
    },
    "varInspector": {
      "cols": {
        "lenName": 16,
        "lenType": 16,
        "lenVar": 40
      },
      "kernels_config": {
        "python": {
          "delete_cmd_postfix": "",
          "delete_cmd_prefix": "del ",
          "library": "var_list.py",
          "varRefreshCmd": "print(var_dic_list())"
        },
        "r": {
          "delete_cmd_postfix": ") ",
          "delete_cmd_prefix": "rm(",
          "library": "var_list.r",
          "varRefreshCmd": "cat(var_dic_list()) "
        }
      },
      "types_to_exclude": [
        "module",
        "function",
        "builtin_function_or_method",
        "instance",
        "_Feature"
      ],
      "window_display": false
    }
  },
  "nbformat": 4,
  "nbformat_minor": 5
}
