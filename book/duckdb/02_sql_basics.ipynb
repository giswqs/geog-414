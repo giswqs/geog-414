{
  "cells": [
    {
      "cell_type": "markdown",
      "metadata": {},
      "source": [
        "# SQL Basics\n",
        "\n",
        "## Introduction\n",
        "\n",
        "This notebook is a short introduction to SQL. It is based on the [DuckDB](https://duckdb.org/) database engine.\n",
        "\n",
        "## Datasets\n",
        "\n",
        "The following datasets are used in this notebook. You don't need to download them, they can be accessed directly from the notebook.\n",
        "\n",
        "- [cities.csv](https://opengeos.org/data/duckdb/cities.csv)\n",
        "- [countries.csv](https://opengeos.org/data/duckdb/countries.csv)\n",
        "\n",
        "## References\n",
        "\n",
        "- [W3Schools SQL Tutorial](https://www.w3schools.com/sql)\n",
        "- [DuckDB SQL Introduction](https://duckdb.org/docs/sql/introduction.html)"
      ]
    },
    {
      "cell_type": "markdown",
      "metadata": {},
      "source": [
        "## Installation\n",
        "\n",
        "Uncomment the following cell to install the required packages."
      ]
    },
    {
      "cell_type": "code",
      "execution_count": null,
      "metadata": {},
      "outputs": [],
      "source": [
        "# %pip install duckdb duckdb-engine jupysql"
      ]
    },
    {
      "cell_type": "markdown",
      "metadata": {},
      "source": [
        "## Library Import and Configuration"
      ]
    },
    {
      "cell_type": "code",
      "execution_count": null,
      "metadata": {},
      "outputs": [],
      "source": [
        "import duckdb\n",
        "import pandas as pd\n",
        "\n",
        "# Import jupysql Jupyter extension to create SQL cells\n",
        "%load_ext sql"
      ]
    },
    {
      "cell_type": "markdown",
      "metadata": {},
      "source": [
        "Set configurations on jupysql to directly output data to Pandas and to simplify the output that is printed to the notebook."
      ]
    },
    {
      "cell_type": "code",
      "execution_count": null,
      "metadata": {},
      "outputs": [],
      "source": [
        "%config SqlMagic.autopandas = True\n",
        "%config SqlMagic.feedback = False\n",
        "%config SqlMagic.displaycon = False"
      ]
    },
    {
      "cell_type": "markdown",
      "metadata": {},
      "source": [
        "## Connecting to DuckDB\n",
        "\n",
        "Connect jupysql to DuckDB using a SQLAlchemy-style connection string. You may either connect to an in memory DuckDB, or a file backed db."
      ]
    },
    {
      "cell_type": "code",
      "execution_count": null,
      "metadata": {},
      "outputs": [],
      "source": [
        "%sql duckdb:///:memory:\n",
        "# %sql duckdb:///path/to/file.db"
      ]
    },
    {
      "cell_type": "markdown",
      "metadata": {},
      "source": [
        " If your SQL query is one line only, you may use the `%sql` magic command. For multi-line SQL query, you may use the `%%sql` magic command. "
      ]
    },
    {
      "cell_type": "markdown",
      "metadata": {},
      "source": [
        "## Install extensions"
      ]
    },
    {
      "cell_type": "markdown",
      "metadata": {},
      "source": [
        "\n",
        "Check available DuckDB extensions."
      ]
    },
    {
      "cell_type": "code",
      "execution_count": null,
      "metadata": {},
      "outputs": [],
      "source": [
        "%%sql\n",
        "\n",
        "SELECT * FROM duckdb_extensions();"
      ]
    },
    {
      "cell_type": "markdown",
      "metadata": {},
      "source": [
        "DuckDB's [httpfs extension](https://duckdb.org/docs/extensions/httpfs) allows parquet and csv files to be queried remotely over http. This is useful for querying large datasets without having to download them locally. Let's install the extension and load the extension. "
      ]
    },
    {
      "cell_type": "code",
      "execution_count": null,
      "metadata": {},
      "outputs": [],
      "source": [
        "%%sql\n",
        "\n",
        "INSTALL httpfs;\n",
        "LOAD httpfs;"
      ]
    },
    {
      "cell_type": "markdown",
      "metadata": {},
      "source": [
        "## Read CSV\n",
        "\n",
        "Use the `httpfs` extension to read the `cities.csv` file from the web. "
      ]
    },
    {
      "cell_type": "code",
      "execution_count": null,
      "metadata": {},
      "outputs": [],
      "source": [
        "%%sql\n",
        "\n",
        "SELECT * FROM 'https://opengeos.org/data/duckdb/cities.csv';"
      ]
    },
    {
      "cell_type": "code",
      "execution_count": null,
      "metadata": {},
      "outputs": [],
      "source": [
        "%%sql\n",
        "\n",
        "SELECT * FROM 'https://opengeos.org/data/duckdb/countries.csv';"
      ]
    },
    {
      "cell_type": "markdown",
      "metadata": {},
      "source": [
        "## Create Table\n",
        "\n",
        "Create a table named `cities` from the `cities.csv` file."
      ]
    },
    {
      "cell_type": "code",
      "execution_count": null,
      "metadata": {},
      "outputs": [],
      "source": [
        "%%sql \n",
        "\n",
        "CREATE TABLE cities AS SELECT * FROM 'https://opengeos.org/data/duckdb/cities.csv';"
      ]
    },
    {
      "cell_type": "markdown",
      "metadata": {},
      "source": [
        "Create a table named `countries` from the `countries.csv` file."
      ]
    },
    {
      "cell_type": "code",
      "execution_count": null,
      "metadata": {},
      "outputs": [],
      "source": [
        "%%sql \n",
        "\n",
        "CREATE TABLE countries AS SELECT * FROM 'https://opengeos.org/data/duckdb/countries.csv';"
      ]
    },
    {
      "cell_type": "markdown",
      "metadata": {},
      "source": [
        "Display the table content in the database."
      ]
    },
    {
      "cell_type": "code",
      "execution_count": null,
      "metadata": {},
      "outputs": [],
      "source": [
        "%%sql \n",
        "\n",
        "FROM cities;"
      ]
    },
    {
      "cell_type": "code",
      "execution_count": null,
      "metadata": {},
      "outputs": [],
      "source": [
        "%%sql \n",
        "\n",
        "FROM countries;"
      ]
    },
    {
      "cell_type": "markdown",
      "metadata": {},
      "source": [
        "## The SQL SELECT statement\n",
        "\n",
        "The `SELECT` statement is used to select data from a database. Use either `SELECT *` to select all columns, or `SELECT column1, column2, ...` to select specific columns.\n",
        "\n",
        "`SELECT * FROM cities` is the same as `FROM cities`."
      ]
    },
    {
      "cell_type": "code",
      "execution_count": null,
      "metadata": {
        "scrolled": true,
        "tags": [
          "hide-output"
        ]
      },
      "outputs": [],
      "source": [
        "%%sql \n",
        "\n",
        "SELECT * FROM cities;"
      ]
    },
    {
      "cell_type": "markdown",
      "metadata": {},
      "source": [
        "To limit the number of rows returned, use the `LIMIT` keyword. For example, `SELECT * FROM cities LIMIT 10` will return only the first 10 rows."
      ]
    },
    {
      "cell_type": "code",
      "execution_count": null,
      "metadata": {
        "scrolled": false
      },
      "outputs": [],
      "source": [
        "%%sql\n",
        "\n",
        "SELECT * FROM cities LIMIT 10;"
      ]
    },
    {
      "cell_type": "markdown",
      "metadata": {},
      "source": [
        "Select a subset of columns from the `cities` table and display the first 10 rows."
      ]
    },
    {
      "cell_type": "code",
      "execution_count": null,
      "metadata": {
        "scrolled": false
      },
      "outputs": [],
      "source": [
        "%%sql\n",
        "\n",
        "SELECT name, country FROM cities LIMIT 10;"
      ]
    },
    {
      "cell_type": "markdown",
      "metadata": {},
      "source": [
        "To select distinct values, use the `DISTINCT` keyword. For example, `SELECT DISTINCT country FROM cities` will return only the distinct values of the `country` column."
      ]
    },
    {
      "cell_type": "code",
      "execution_count": null,
      "metadata": {},
      "outputs": [],
      "source": [
        "%%sql\n",
        "\n",
        "SELECT DISTINCT country FROM cities LIMIT 10;"
      ]
    },
    {
      "cell_type": "markdown",
      "metadata": {},
      "source": [
        "To count the number of rows returned, use the `COUNT(*)` function. For example, `SELECT COUNT(*) FROM cities` will return the number of rows in the `cities` table."
      ]
    },
    {
      "cell_type": "code",
      "execution_count": null,
      "metadata": {},
      "outputs": [],
      "source": [
        "%%sql\n",
        "\n",
        "SELECT COUNT(*) FROM cities;"
      ]
    },
    {
      "cell_type": "markdown",
      "metadata": {},
      "source": [
        "To count the number of distinct values, use the `COUNT(DISTINCT column)` function. For example, `SELECT COUNT(DISTINCT country) FROM cities` will return the number of distinct values in the `country` column."
      ]
    },
    {
      "cell_type": "code",
      "execution_count": null,
      "metadata": {},
      "outputs": [],
      "source": [
        "%%sql\n",
        "\n",
        "SELECT COUNT(DISTINCT country) FROM cities;"
      ]
    },
    {
      "cell_type": "markdown",
      "metadata": {},
      "source": [
        "To calculate the maximum value, use the `MAX(column)` function. For example, `SELECT MAX(population) FROM cities` will return the maximum value in the `population` column."
      ]
    },
    {
      "cell_type": "code",
      "execution_count": null,
      "metadata": {},
      "outputs": [],
      "source": [
        "%%sql\n",
        "\n",
        "SELECT MAX(population) FROM cities;"
      ]
    },
    {
      "cell_type": "markdown",
      "metadata": {},
      "source": [
        "To calculate the total value, use the `SUM(column)` function. For example, `SELECT SUM(population) FROM cities` will return the total value in the `population` column."
      ]
    },
    {
      "cell_type": "code",
      "execution_count": null,
      "metadata": {},
      "outputs": [],
      "source": [
        "%%sql\n",
        "\n",
        "SELECT SUM(population) FROM cities;"
      ]
    },
    {
      "cell_type": "markdown",
      "metadata": {},
      "source": [
        "To calculate the average value, use the `AVG(column)` function. For example, `SELECT AVG(population) FROM cities` will return the average value in the `population` column."
      ]
    },
    {
      "cell_type": "code",
      "execution_count": null,
      "metadata": {},
      "outputs": [],
      "source": [
        "%%sql\n",
        "\n",
        "SELECT AVG(population) FROM cities;"
      ]
    },
    {
      "cell_type": "markdown",
      "metadata": {},
      "source": [
        "To order the results, use the `ORDER BY column` clause. For example, `SELECT * FROM cities ORDER BY country` will return the rows ordered by the `country` column alphabetically."
      ]
    },
    {
      "cell_type": "code",
      "execution_count": null,
      "metadata": {},
      "outputs": [],
      "source": [
        "%%sql\n",
        "\n",
        "SELECT * FROM cities ORDER BY country LIMIT 10;"
      ]
    },
    {
      "cell_type": "markdown",
      "metadata": {},
      "source": [
        "To order the results in descending order, use the `ORDER BY column DESC` clause. For example, `SELECT * FROM cities ORDER BY country ASC, population DESC` will return the rows ordered by the `country` column alphabetical order and then by the `population` column in descending order. "
      ]
    },
    {
      "cell_type": "code",
      "execution_count": null,
      "metadata": {},
      "outputs": [],
      "source": [
        "%%sql \n",
        "\n",
        "SELECT * FROM cities ORDER BY country ASC, population DESC LIMIT 10;"
      ]
    },
    {
      "cell_type": "markdown",
      "metadata": {},
      "source": [
        "## The WHERE Clause\n",
        "\n",
        "The `WHERE` clause is used to filter records. The `WHERE` clause is used to extract only those records that fulfill a specified condition."
      ]
    },
    {
      "cell_type": "code",
      "execution_count": null,
      "metadata": {
        "scrolled": true,
        "tags": [
          "hide-output"
        ]
      },
      "outputs": [],
      "source": [
        "%%sql\n",
        "\n",
        "SELECT * FROM cities WHERE country='USA'"
      ]
    },
    {
      "cell_type": "markdown",
      "metadata": {},
      "source": [
        "You can use boolean operators such as `AND`, `OR`, `NOT` to filter records. For example, `SELECT * FROM cities WHERE country='USA' OR country='CAN'` will return the rows where the `country` column is either `USA` or `CAN`."
      ]
    },
    {
      "cell_type": "code",
      "execution_count": null,
      "metadata": {
        "scrolled": false,
        "tags": [
          "hide-output"
        ]
      },
      "outputs": [],
      "source": [
        "%%sql\n",
        "\n",
        "SELECT * FROM cities WHERE country='USA' OR country='CAN';"
      ]
    },
    {
      "cell_type": "markdown",
      "metadata": {},
      "source": [
        "To select US cities with a population greater than 1 million, use the following query: `SELECT * FROM cities WHERE country='USA' AND population > 1000000`."
      ]
    },
    {
      "cell_type": "code",
      "execution_count": null,
      "metadata": {
        "tags": [
          "hide-output"
        ]
      },
      "outputs": [],
      "source": [
        "%%sql \n",
        "\n",
        "SELECT * FROM cities WHERE country='USA' AND population>1000000;"
      ]
    },
    {
      "cell_type": "markdown",
      "metadata": {},
      "source": [
        "To select cities with the country name starting with the letter `U`, use the following query: `SELECT * FROM cities WHERE country LIKE 'U%'`."
      ]
    },
    {
      "cell_type": "code",
      "execution_count": null,
      "metadata": {
        "scrolled": false,
        "tags": [
          "hide-output"
        ]
      },
      "outputs": [],
      "source": [
        "%%sql\n",
        "\n",
        "SELECT * FROM cities WHERE country LIKE 'U%';"
      ]
    },
    {
      "cell_type": "markdown",
      "metadata": {},
      "source": [
        "To select cities with the country name ending with the letter `A`, use the following query: `SELECT * FROM cities WHERE country LIKE '%A'`."
      ]
    },
    {
      "cell_type": "code",
      "execution_count": null,
      "metadata": {
        "tags": [
          "hide-output"
        ]
      },
      "outputs": [],
      "source": [
        "%%sql\n",
        "\n",
        "SELECT * FROM cities WHERE country LIKE '%A';"
      ]
    },
    {
      "cell_type": "markdown",
      "metadata": {},
      "source": [
        "To select cities with the country name containing the letter `S` in the middle, use the following query: `SELECT * FROM cities WHERE country LIKE '_S_'`."
      ]
    },
    {
      "cell_type": "code",
      "execution_count": null,
      "metadata": {
        "tags": [
          "hide-output"
        ]
      },
      "outputs": [],
      "source": [
        "%%sql \n",
        "\n",
        "SELECT * FROM cities WHERE country LIKE '_S_';"
      ]
    },
    {
      "cell_type": "markdown",
      "metadata": {},
      "source": [
        "To select cities from a list of countries, use the `IN` operator. For example, `SELECT * FROM cities WHERE country IN ('USA', 'CAN')` will return the rows where the `country` column is either `USA` or `CAN`."
      ]
    },
    {
      "cell_type": "code",
      "execution_count": null,
      "metadata": {
        "tags": [
          "hide-output"
        ]
      },
      "outputs": [],
      "source": [
        "%%sql\n",
        "\n",
        "SELECT * FROM cities WHERE country IN ('USA', 'CAN');"
      ]
    },
    {
      "cell_type": "markdown",
      "metadata": {},
      "source": [
        "To select cities with a population between 1 and 10 million, use the following query: `SELECT * FROM cities WHERE population BETWEEN 1000000 AND 10000000`."
      ]
    },
    {
      "cell_type": "code",
      "execution_count": null,
      "metadata": {
        "scrolled": false,
        "tags": [
          "hide-output"
        ]
      },
      "outputs": [],
      "source": [
        "%%sql \n",
        "\n",
        "SELECT * FROM cities WHERE population BETWEEN 1000000 AND 10000000;"
      ]
    },
    {
      "cell_type": "markdown",
      "metadata": {},
      "source": [
        "## SQL Joins\n",
        "\n",
        "Reference: https://www.w3schools.com/sql/sql_join.asp\n",
        "\n",
        "Here are the different types of the JOINs in SQL:\n",
        "\n",
        "- `(INNER) JOIN`: Returns records that have matching values in both tables\n",
        "- `LEFT (OUTER) JOIN`: Returns all records from the left table, and the matched records from the right table\n",
        "- `RIGHT (OUTER) JOIN`: Returns all records from the right table, and the matched records from the left table\n",
        "- `FULL (OUTER) JOIN`: Returns all records when there is a match in either left or right table\n",
        "\n",
        "![](https://i.imgur.com/mITYzuS.png)\n",
        "\n",
        "We have two sample tables: `cities` and `countries`.\n",
        "\n",
        "There are 1,249 cities in the `cities` table and 243 countries in the `countries` table."
      ]
    },
    {
      "cell_type": "code",
      "execution_count": null,
      "metadata": {},
      "outputs": [],
      "source": [
        "%%sql \n",
        "\n",
        "SELECT COUNT(*) FROM cities;"
      ]
    },
    {
      "cell_type": "code",
      "execution_count": null,
      "metadata": {},
      "outputs": [],
      "source": [
        "%%sql \n",
        "\n",
        "SELECT * FROM cities LIMIT 10;"
      ]
    },
    {
      "cell_type": "code",
      "execution_count": null,
      "metadata": {},
      "outputs": [],
      "source": [
        "%%sql \n",
        "\n",
        "SELECT COUNT(*) FROM countries;"
      ]
    },
    {
      "cell_type": "code",
      "execution_count": null,
      "metadata": {},
      "outputs": [],
      "source": [
        "%%sql \n",
        "\n",
        "SELECT * FROM countries LIMIT 10;"
      ]
    },
    {
      "cell_type": "markdown",
      "metadata": {},
      "source": [
        "### SQL Inner Join\n",
        "\n",
        "The `INNER JOIN` keyword selects records that have matching values in both tables. In the example, we join the `cities` table with the `countries` table using the `country` column in the `cities` table and the `Alpha3_code` column in the `countries` table. The result contains 1,244 rows, indicating that there are 5 cities that do not have a matching country."
      ]
    },
    {
      "cell_type": "code",
      "execution_count": null,
      "metadata": {
        "tags": [
          "hide-output"
        ]
      },
      "outputs": [],
      "source": [
        "%%sql\n",
        "\n",
        "SELECT * FROM cities INNER JOIN countries ON cities.country = countries.\"Alpha3_code\";"
      ]
    },
    {
      "cell_type": "markdown",
      "metadata": {},
      "source": [
        "Only select the `city` and `country` columns from the `cities` table and the `Country` column from the `countries` table."
      ]
    },
    {
      "cell_type": "code",
      "execution_count": null,
      "metadata": {
        "tags": [
          "hide-output"
        ]
      },
      "outputs": [],
      "source": [
        "%%sql\n",
        "\n",
        "SELECT name, cities.\"country\", countries.\"Country\" FROM cities INNER JOIN countries ON cities.country = countries.\"Alpha3_code\";"
      ]
    },
    {
      "cell_type": "markdown",
      "metadata": {},
      "source": [
        "### SQL Left Join\n",
        "\n",
        "The `LEFT JOIN` keyword returns all records from the left table (`cities`), and the matched records from the right table (`countries`). The result contains 1,249 rows, the same number of rows as the `cities` table."
      ]
    },
    {
      "cell_type": "code",
      "execution_count": null,
      "metadata": {
        "tags": [
          "hide-output"
        ]
      },
      "outputs": [],
      "source": [
        "%%sql\n",
        "\n",
        "SELECT * FROM cities LEFT JOIN countries ON cities.country = countries.\"Alpha3_code\";"
      ]
    },
    {
      "cell_type": "markdown",
      "metadata": {},
      "source": [
        "### SQL Right Join\n",
        "\n",
        "The `RIGHT JOIN` keyword returns all records from the right table (`countries`), and the matched records from the left table (`cities`). The result contains 1,291 rows."
      ]
    },
    {
      "cell_type": "code",
      "execution_count": null,
      "metadata": {
        "tags": [
          "hide-output"
        ]
      },
      "outputs": [],
      "source": [
        "%%sql\n",
        "\n",
        "SELECT * FROM cities RIGHT JOIN countries ON cities.country = countries.\"Alpha3_code\";"
      ]
    },
    {
      "cell_type": "markdown",
      "metadata": {},
      "source": [
        "### SQL Full Join\n",
        "\n",
        "The `FULL JOIN` keyword returns all records when there is a match in either left or right table. The result contains 1,296 rows."
      ]
    },
    {
      "cell_type": "code",
      "execution_count": null,
      "metadata": {
        "tags": [
          "hide-output"
        ]
      },
      "outputs": [],
      "source": [
        "%%sql\n",
        "\n",
        "SELECT * FROM cities FULL JOIN countries ON cities.country = countries.\"Alpha3_code\";"
      ]
    },
    {
      "cell_type": "markdown",
      "metadata": {},
      "source": [
        "### SQL Union\n",
        "\n",
        "The `UNION` operator is used to combine the result-set of two or more `SELECT` statements. "
      ]
    },
    {
      "cell_type": "code",
      "execution_count": null,
      "metadata": {
        "tags": [
          "hide-output"
        ]
      },
      "outputs": [],
      "source": [
        "%%sql\n",
        "\n",
        "SELECT country FROM cities\n",
        "UNION \n",
        "SELECT \"Alpha3_code\" FROM countries;"
      ]
    },
    {
      "cell_type": "markdown",
      "metadata": {},
      "source": [
        "## Aggregation\n",
        "\n",
        "### Group By\n",
        "\n",
        "The `GROUP BY` statement groups rows that have the same values into summary rows, like \"find the number of cities in each country\".\n",
        "\n",
        "The `GROUP BY` statement is often used with aggregate functions (`COUNT`, `MAX`, `MIN`, `SUM`, `AVG`) to group the result-set by one or more columns."
      ]
    },
    {
      "cell_type": "code",
      "execution_count": null,
      "metadata": {
        "scrolled": true,
        "tags": [
          "hide-output"
        ]
      },
      "outputs": [],
      "source": [
        "%%sql\n",
        "\n",
        "SELECT COUNT(name), country \n",
        "FROM cities \n",
        "GROUP BY country \n",
        "ORDER BY COUNT(name) DESC;"
      ]
    },
    {
      "cell_type": "code",
      "execution_count": null,
      "metadata": {
        "tags": [
          "hide-output"
        ]
      },
      "outputs": [],
      "source": [
        "%%sql\n",
        "\n",
        "SELECT countries.\"Country\", COUNT(name)\n",
        "FROM cities\n",
        "LEFT JOIN countries ON cities.country = countries.\"Alpha3_code\"\n",
        "GROUP BY countries.\"Country\"\n",
        "ORDER BY COUNT(name) DESC;"
      ]
    },
    {
      "cell_type": "markdown",
      "metadata": {},
      "source": [
        "### Having\n",
        "\n",
        "The `HAVING` clause was added to SQL because the `WHERE` keyword could not be used with aggregate functions.\n",
        "\n",
        "For example, to select countries with more than 40 cities:"
      ]
    },
    {
      "cell_type": "code",
      "execution_count": null,
      "metadata": {},
      "outputs": [],
      "source": [
        "%%sql \n",
        "\n",
        "SELECT COUNT(name), country\n",
        "FROM cities\n",
        "GROUP BY country\n",
        "HAVING COUNT(name) > 40\n",
        "ORDER BY COUNT(name) DESC;"
      ]
    },
    {
      "cell_type": "code",
      "execution_count": null,
      "metadata": {},
      "outputs": [],
      "source": [
        "%%sql\n",
        "\n",
        "SELECT countries.\"Country\", COUNT(name)\n",
        "FROM cities\n",
        "LEFT JOIN countries ON cities.country = countries.\"Alpha3_code\"\n",
        "GROUP BY countries.\"Country\"\n",
        "HAVING COUNT(name) > 40\n",
        "ORDER BY COUNT(name) DESC;"
      ]
    },
    {
      "cell_type": "markdown",
      "metadata": {},
      "source": [
        "## Conditional statements\n",
        "\n",
        "The `CASE` statement goes through conditions and returns a value when the first condition is met (like an `IF-THEN-ELSE` statement). So, once a condition is true, it will stop reading and return the result. If no conditions are true, it returns the value in the `ELSE` clause.\n",
        "\n",
        "For example, to divide cities into 3 groups based on their population:"
      ]
    },
    {
      "cell_type": "code",
      "execution_count": null,
      "metadata": {
        "scrolled": false,
        "tags": [
          "hide-output"
        ]
      },
      "outputs": [],
      "source": [
        "%%sql\n",
        "\n",
        "SELECT name, population,\n",
        "CASE\n",
        "    WHEN population > 10000000 THEN 'Megacity'\n",
        "    WHEN population > 1000000 THEN 'Large city'\n",
        "    ELSE 'Small city'\n",
        "END AS category\n",
        "FROM cities;"
      ]
    },
    {
      "cell_type": "markdown",
      "metadata": {},
      "source": [
        "## Saving results\n",
        "\n",
        "You can save the results of a query to a new table using the `CREATE TABLE AS` statement."
      ]
    },
    {
      "cell_type": "code",
      "execution_count": null,
      "metadata": {},
      "outputs": [],
      "source": [
        "%%sql\n",
        "\n",
        "CREATE TABLE cities2 AS SELECT * FROM cities;"
      ]
    },
    {
      "cell_type": "markdown",
      "metadata": {},
      "source": [
        "Show the new table content."
      ]
    },
    {
      "cell_type": "code",
      "execution_count": null,
      "metadata": {},
      "outputs": [],
      "source": [
        "%%sql\n",
        "\n",
        "FROM cities2;"
      ]
    },
    {
      "cell_type": "markdown",
      "metadata": {},
      "source": [
        "Use the `DROP TABLE` statement to delete the table."
      ]
    },
    {
      "cell_type": "code",
      "execution_count": null,
      "metadata": {},
      "outputs": [],
      "source": [
        "%%sql\n",
        "\n",
        "DROP TABLE IF EXISTS cities_usa;\n",
        "CREATE TABLE cities_usa AS (SELECT * FROM cities WHERE country = 'USA');"
      ]
    },
    {
      "cell_type": "code",
      "execution_count": null,
      "metadata": {},
      "outputs": [],
      "source": [
        "%%sql\n",
        "\n",
        "FROM cities_usa;"
      ]
    },
    {
      "cell_type": "markdown",
      "metadata": {},
      "source": [
        "Use the `INSERT INTO` statement to insert rows into a table."
      ]
    },
    {
      "cell_type": "code",
      "execution_count": null,
      "metadata": {},
      "outputs": [],
      "source": [
        "%%sql \n",
        "\n",
        "INSERT INTO cities_usa (SELECT * FROM cities WHERE country = 'CAN');"
      ]
    },
    {
      "cell_type": "markdown",
      "metadata": {},
      "source": [
        "## SQL Comments\n",
        "\n",
        "Comments are used to explain sections of SQL statements, or to prevent execution of SQL statements.\n",
        "\n",
        "\n",
        "### Single line comMents\n",
        "\n",
        "Single line comments start with --.\n",
        "\n",
        "Any text between -- and the end of the line will be ignored (will not be executed).\n",
        "\n",
        "The following example uses a single-line comment as an explanation:"
      ]
    },
    {
      "cell_type": "code",
      "execution_count": null,
      "metadata": {},
      "outputs": [],
      "source": [
        "%%sql\n",
        "\n",
        "SELECT * FROM cities LIMIT 10 -- This is a comment;"
      ]
    },
    {
      "cell_type": "markdown",
      "metadata": {},
      "source": [
        "### Multi-line comments\n",
        "\n",
        "Multi-line comments start with `/*` and end with `*/`.\n",
        "\n",
        "Any text between `/*` and `*/` will be ignored.\n",
        "\n",
        "The following example uses a multi-line comment as an explanation:"
      ]
    },
    {
      "cell_type": "code",
      "execution_count": null,
      "metadata": {},
      "outputs": [],
      "source": [
        "%%sql\n",
        "\n",
        "SELECT COUNT(name), country \n",
        "FROM cities \n",
        "/*\n",
        " * Adding Group by\n",
        " * Adding Order by\n",
        " */\n",
        "GROUP BY country \n",
        "ORDER BY COUNT(name) DESC\n",
        "LIMIT 10;"
      ]
    }
  ],
  "metadata": {
    "celltoolbar": "Tags",
    "hide_input": false,
    "kernelspec": {
      "display_name": "Python 3",
      "language": "python",
      "name": "python3"
    },
    "language_info": {
      "codemirror_mode": {
        "name": "ipython",
        "version": 3
      },
      "file_extension": ".py",
      "mimetype": "text/x-python",
      "name": "python",
      "nbconvert_exporter": "python",
      "pygments_lexer": "ipython3",
      "version": "3.11.6"
    },
    "toc": {
      "base_numbering": 1,
      "nav_menu": {},
      "number_sections": true,
      "sideBar": true,
      "skip_h1_title": false,
      "title_cell": "Table of Contents",
      "title_sidebar": "Contents",
      "toc_cell": false,
      "toc_position": {},
      "toc_section_display": true,
      "toc_window_display": false
    },
    "varInspector": {
      "cols": {
        "lenName": 16,
        "lenType": 16,
        "lenVar": 40
      },
      "kernels_config": {
        "python": {
          "delete_cmd_postfix": "",
          "delete_cmd_prefix": "del ",
          "library": "var_list.py",
          "varRefreshCmd": "print(var_dic_list())"
        },
        "r": {
          "delete_cmd_postfix": ") ",
          "delete_cmd_prefix": "rm(",
          "library": "var_list.r",
          "varRefreshCmd": "cat(var_dic_list()) "
        }
      },
      "types_to_exclude": [
        "module",
        "function",
        "builtin_function_or_method",
        "instance",
        "_Feature"
      ],
      "window_display": false
    }
  },
  "nbformat": 4,
  "nbformat_minor": 5
}
