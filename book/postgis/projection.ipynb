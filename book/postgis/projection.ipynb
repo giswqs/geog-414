{
 "cells": [
  {
   "cell_type": "markdown",
   "id": "0",
   "metadata": {},
   "source": [
    "# Projecting Data\n",
    "\n",
    "**Setting up the conda env:**\n",
    "\n",
    "```\n",
    "conda create -n sql python\n",
    "conda activate sql\n",
    "conda install ipython-sql sqlalchemy psycopg2 notebook pandas -c conda-forge\n",
    "```\n",
    "\n",
    "**Sample dataset:**\n",
    "- [nyc_data.zip](https://github.com/giswqs/postgis/raw/master/data/nyc_data.zip) (Watch this [video](https://youtu.be/fROzLrjNDrs) to load data into PostGIS)\n",
    "\n",
    "**References**:\n",
    "- [Introduction to PostGIS](https://postgis.net/workshops/postgis-intro)\n",
    "- [Using SQL with Geodatabases](https://desktop.arcgis.com/en/arcmap/latest/manage-data/using-sql-with-gdbs/sql-and-enterprise-geodatabases.htm)"
   ]
  },
  {
   "cell_type": "markdown",
   "id": "1",
   "metadata": {},
   "source": [
    "## Connecting to the database"
   ]
  },
  {
   "cell_type": "code",
   "execution_count": null,
   "id": "2",
   "metadata": {},
   "outputs": [],
   "source": [
    "%load_ext sql"
   ]
  },
  {
   "cell_type": "code",
   "execution_count": null,
   "id": "3",
   "metadata": {},
   "outputs": [],
   "source": [
    "import os"
   ]
  },
  {
   "cell_type": "code",
   "execution_count": null,
   "id": "4",
   "metadata": {},
   "outputs": [],
   "source": [
    "host = \"localhost\"\n",
    "database = \"nyc\"\n",
    "user = os.getenv(\"SQL_USER\")\n",
    "password = os.getenv(\"SQL_PASSWORD\")"
   ]
  },
  {
   "cell_type": "code",
   "execution_count": null,
   "id": "5",
   "metadata": {},
   "outputs": [],
   "source": [
    "connection_string = f\"postgresql://{user}:{password}@{host}/{database}\""
   ]
  },
  {
   "cell_type": "code",
   "execution_count": null,
   "id": "6",
   "metadata": {},
   "outputs": [],
   "source": [
    "%sql $connection_string"
   ]
  },
  {
   "cell_type": "code",
   "execution_count": null,
   "id": "7",
   "metadata": {},
   "outputs": [],
   "source": [
    "%%sql \n",
    "\n",
    "SELECT * from nyc_subway_stations LIMIT 5"
   ]
  },
  {
   "cell_type": "markdown",
   "id": "8",
   "metadata": {},
   "source": [
    "## Checking SRID\n",
    "\n",
    "The earth is not flat, and there is no simple way of putting it down on\n",
    "a flat paper map (or computer screen), so people have come up with all\n",
    "sorts of ingenious solutions, each with pros and cons. Some projections\n",
    "preserve area, so all objects have a relative size to each other; other\n",
    "projections preserve angles (conformal) like the Mercator projection;\n",
    "some projections try to find a good intermediate mix with only little\n",
    "distortion on several parameters. Common to all projections is that they\n",
    "transform the (spherical) world onto a flat Cartesian coordinate system,\n",
    "and which projection to choose depends on how you will be using the\n",
    "data.\n",
    "\n",
    "We\\'ve already encountered projections when we\n",
    "[loaded our nyc data](https://postgis.gishub.org/chapters/postgis_intro.html).\n",
    "(Recall that pesky SRID 26918). Sometimes, however, you need to\n",
    "transform and re-project between spatial reference systems. PostGIS\n",
    "includes built-in support for changing the projection of data, using the\n",
    "`ST_Transform(geometry, srid)`\n",
    "function. For managing the spatial reference identifiers on geometries,\n",
    "PostGIS provides the `ST_SRID(geometry)` and `ST_SetSRID(geometry, srid)` functions.\n",
    "\n",
    "We can confirm the SRID of our data with the `ST_SRID` function:\n"
   ]
  },
  {
   "cell_type": "code",
   "execution_count": null,
   "id": "9",
   "metadata": {},
   "outputs": [],
   "source": [
    "%%sql\n",
    "\n",
    "SELECT ST_SRID(geom) FROM nyc_streets LIMIT 1;"
   ]
  },
  {
   "cell_type": "markdown",
   "id": "10",
   "metadata": {},
   "source": [
    "And what is definition of \\\"26918\\\"? As we saw in\n",
    "[loading data section](https://postgis.gishub.org/chapters/postgis_intro.html),\n",
    "the definition is contained in the `spatial_ref_sys` table. In fact,\n",
    "**two** definitions are there. The \\\"well-known text\\\"\n",
    "(`WKT`) definition is in the `srtext`\n",
    "column, and there is a second definition in \\\"proj.4\\\" format in the\n",
    "`proj4text` column."
   ]
  },
  {
   "cell_type": "code",
   "execution_count": null,
   "id": "11",
   "metadata": {},
   "outputs": [],
   "source": [
    "%%sql\n",
    "\n",
    "SELECT * FROM spatial_ref_sys WHERE srid = 26918"
   ]
  },
  {
   "cell_type": "markdown",
   "id": "12",
   "metadata": {},
   "source": [
    "In fact, for the internal PostGIS re-projection calculations, it is the\n",
    "contents of the `proj4text` column that are used. For our 26918\n",
    "projection, here is the proj.4 text:"
   ]
  },
  {
   "cell_type": "code",
   "execution_count": null,
   "id": "13",
   "metadata": {},
   "outputs": [],
   "source": [
    "%%sql\n",
    "\n",
    "SELECT proj4text FROM spatial_ref_sys WHERE srid = 26918"
   ]
  },
  {
   "cell_type": "markdown",
   "id": "14",
   "metadata": {},
   "source": [
    "In practice, both the `srtext` and the `proj4text` columns are\n",
    "important: the `srtext` column is used by external programs like\n",
    "[GeoServer](http://geoserver.org), [QGIS](https://qgis.org), and\n",
    "[FME](http://www.safe.com/) and others; the `proj4text` column is used\n",
    "internally."
   ]
  },
  {
   "cell_type": "markdown",
   "id": "15",
   "metadata": {},
   "source": [
    "## Comparing Data\n",
    "\n",
    "Taken together, a coordinate and an SRID define a location on the globe.\n",
    "Without an SRID, a coordinate is just an abstract notion. A\n",
    "\\\"Cartesian\\\" coordinate plane is defined as a \\\"flat\\\" coordinate\n",
    "system placed on the surface of Earth. Because PostGIS functions work on\n",
    "such a plane, comparison operations require that both geometries be\n",
    "represented in the same SRID.\n",
    "\n",
    "If you feed in geometries with differing SRIDs you will just get an\n",
    "error:"
   ]
  },
  {
   "cell_type": "code",
   "execution_count": null,
   "id": "16",
   "metadata": {},
   "outputs": [],
   "source": [
    "# %%sql\n",
    "\n",
    "# SELECT ST_Equals(\n",
    "#          ST_GeomFromText('POINT(0 0)', 4326),\n",
    "#          ST_GeomFromText('POINT(0 0)', 26918)\n",
    "#          )"
   ]
  },
  {
   "cell_type": "markdown",
   "id": "17",
   "metadata": {},
   "source": [
    "Be careful of getting too happy with using\n",
    "`ST_Transform` for on-the-fly\n",
    "conversion. Spatial indexes are built using SRID of the stored\n",
    "geometries. If comparison are done in a different SRID, spatial indexes\n",
    "are (often) not used. It is best practice to choose **one SRID** for all\n",
    "the tables in your database. Only use the transformation function when\n",
    "you are reading or writing data to external applications."
   ]
  },
  {
   "cell_type": "markdown",
   "id": "18",
   "metadata": {},
   "source": [
    "## Transforming Data\n",
    "\n",
    "If we return to our proj4 definition for SRID 26918, we can see that our\n",
    "working projection is UTM (Universal Transverse Mercator) of zone 18,\n",
    "with meters as the unit of measurement.\n",
    "\n",
    "    +proj=utm +zone=18 +ellps=GRS80 +datum=NAD83 +units=m +no_defs \n",
    "\n",
    "Let\\'s convert some data from our working projection to geographic\n",
    "coordinates \\-- also known as \\\"longitude/latitude\\\".\n",
    "\n",
    "To convert data from one SRID to another, you must first verify that\n",
    "your geometry has a valid SRID. Since we have already confirmed a valid\n",
    "SRID, we next need the SRID of the projection to transform into. In\n",
    "other words, what is the SRID of geographic coordinates?\n",
    "\n",
    "The most common SRID for geographic coordinates is 4326, which\n",
    "corresponds to \\\"longitude/latitude on the WGS84 spheroid\\\". You can see\n",
    "the definition at the spatialreference.org site:\n",
    "\n",
    "> <http://spatialreference.org/ref/epsg/4326/>\n",
    "\n",
    "You can also pull the definitions from the `spatial_ref_sys` table:"
   ]
  },
  {
   "cell_type": "code",
   "execution_count": null,
   "id": "19",
   "metadata": {},
   "outputs": [],
   "source": [
    "%%sql\n",
    "\n",
    "SELECT srtext FROM spatial_ref_sys WHERE srid = 4326;"
   ]
  },
  {
   "cell_type": "markdown",
   "id": "20",
   "metadata": {},
   "source": [
    "Let\\'s convert the coordinates of the \\'Broad St\\' subway station into\n",
    "geographics:"
   ]
  },
  {
   "cell_type": "code",
   "execution_count": null,
   "id": "21",
   "metadata": {},
   "outputs": [],
   "source": [
    "%%sql\n",
    "\n",
    "SELECT ST_AsText(geom)\n",
    "FROM nyc_subway_stations \n",
    "WHERE name = 'Broad St';"
   ]
  },
  {
   "cell_type": "code",
   "execution_count": null,
   "id": "22",
   "metadata": {},
   "outputs": [],
   "source": [
    "%%sql\n",
    "\n",
    "SELECT ST_AsText(ST_Transform(geom,4326)) \n",
    "FROM nyc_subway_stations \n",
    "WHERE name = 'Broad St';"
   ]
  },
  {
   "cell_type": "markdown",
   "id": "23",
   "metadata": {},
   "source": [
    "If you load data or create a new geometry without specifying an SRID,\n",
    "the SRID value will be 0. Recall in `geometries`, that when we created our `geometries` table we didn\\'t\n",
    "specify an SRID. If we query our database, we should expect all the\n",
    "`nyc_` tables to have an SRID of 26918, while the `geometries` table\n",
    "defaulted to an SRID of 0.\n",
    "\n",
    "To view a table\\'s SRID assignment, query the database\\'s\n",
    "`geometry_columns` table."
   ]
  },
  {
   "cell_type": "code",
   "execution_count": null,
   "id": "24",
   "metadata": {},
   "outputs": [],
   "source": [
    "%%sql\n",
    "\n",
    "SELECT f_table_name AS name, srid \n",
    "FROM geometry_columns;"
   ]
  },
  {
   "cell_type": "markdown",
   "id": "25",
   "metadata": {},
   "source": [
    "However, if you know what the SRID of the coordinates is supposed to be,\n",
    "you can set it post-facto, using `ST_SetSRID` on the geometry. Then you will be able to transform the\n",
    "geometry into other systems."
   ]
  },
  {
   "cell_type": "code",
   "execution_count": null,
   "id": "26",
   "metadata": {},
   "outputs": [],
   "source": [
    "%%sql\n",
    "\n",
    "SELECT ST_AsText(\n",
    " ST_Transform(\n",
    "   ST_SetSRID(geom,26918),\n",
    " 4326)\n",
    ")\n",
    "FROM geometries;"
   ]
  },
  {
   "cell_type": "markdown",
   "id": "27",
   "metadata": {},
   "source": [
    "## Function List\n",
    "\n",
    "[ST_AsText](http://postgis.net/docs/ST_AsText.html): Returns the\n",
    "Well-Known Text (WKT) representation of the geometry/geography without\n",
    "SRID metadata.\n",
    "\n",
    "[ST_SetSRID(geometry, srid)](http://postgis.net/docs/ST_SetSRID.html):\n",
    "Sets the SRID on a geometry to a particular integer value.\n",
    "\n",
    "[ST_SRID(geometry)](http://postgis.net/docs/ST_SRID.html): Returns the\n",
    "spatial reference identifier for the ST_Geometry as defined in\n",
    "spatial_ref_sys table.\n",
    "\n",
    "[ST_Transform(geometry,\n",
    "srid)](http://postgis.net/docs/ST_Transform.html): Returns a new\n",
    "geometry with its coordinates transformed to the SRID referenced by the\n",
    "integer parameter."
   ]
  }
 ],
 "metadata": {
  "hide_input": false,
  "kernelspec": {
   "display_name": "Python 3",
   "language": "python",
   "name": "python3"
  },
  "language_info": {
   "codemirror_mode": {
    "name": "ipython",
    "version": 3
   },
   "file_extension": ".py",
   "mimetype": "text/x-python",
   "name": "python",
   "nbconvert_exporter": "python",
   "pygments_lexer": "ipython3",
   "version": "3.9.2"
  },
  "toc": {
   "base_numbering": 1,
   "nav_menu": {},
   "number_sections": true,
   "sideBar": true,
   "skip_h1_title": false,
   "title_cell": "Table of Contents",
   "title_sidebar": "Contents",
   "toc_cell": false,
   "toc_position": {},
   "toc_section_display": true,
   "toc_window_display": false
  },
  "varInspector": {
   "cols": {
    "lenName": 16,
    "lenType": 16,
    "lenVar": 40
   },
   "kernels_config": {
    "python": {
     "delete_cmd_postfix": "",
     "delete_cmd_prefix": "del ",
     "library": "var_list.py",
     "varRefreshCmd": "print(var_dic_list())"
    },
    "r": {
     "delete_cmd_postfix": ") ",
     "delete_cmd_prefix": "rm(",
     "library": "var_list.r",
     "varRefreshCmd": "cat(var_dic_list()) "
    }
   },
   "types_to_exclude": [
    "module",
    "function",
    "builtin_function_or_method",
    "instance",
    "_Feature"
   ],
   "window_display": false
  }
 },
 "nbformat": 4,
 "nbformat_minor": 5
}
