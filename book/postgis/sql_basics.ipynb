{
  "cells": [
    {
      "cell_type": "markdown",
      "id": "116fcdbc",
      "metadata": {},
      "source": [
        "# SQL Basics\n",
        "\n",
        "**Setting up the conda env:**\n",
        "\n",
        "```\n",
        "conda create -n sql python\n",
        "conda activate sql\n",
        "conda install ipython-sql sqlalchemy psycopg2 notebook pandas -c conda-forge\n",
        "```\n",
        "\n",
        "\n",
        "**Sample dataset:**\n",
        "- [cities.csv](https://github.com/giswqs/postgis/blob/master/data/cities.csv)\n",
        "- [countries.csv](https://raw.githubusercontent.com/giswqs/postgis/master/data/countries.csv)\n"
      ]
    },
    {
      "cell_type": "markdown",
      "id": "b43030e6",
      "metadata": {},
      "source": [
        "## Connecting to the database"
      ]
    },
    {
      "cell_type": "code",
      "execution_count": null,
      "id": "30a969e8",
      "metadata": {},
      "outputs": [],
      "source": [
        "%load_ext sql"
      ]
    },
    {
      "cell_type": "code",
      "execution_count": null,
      "id": "4a222a24",
      "metadata": {},
      "outputs": [],
      "source": [
        "import os"
      ]
    },
    {
      "cell_type": "code",
      "execution_count": null,
      "id": "df2880de",
      "metadata": {},
      "outputs": [],
      "source": [
        "host = \"localhost\"\n",
        "database = \"sdb\"\n",
        "user = os.getenv('SQL_USER')\n",
        "password = os.getenv('SQL_PASSWORD')"
      ]
    },
    {
      "cell_type": "code",
      "execution_count": null,
      "id": "dc4f36b1",
      "metadata": {},
      "outputs": [],
      "source": [
        "connection_string = f\"postgresql://{user}:{password}@{host}/{database}\""
      ]
    },
    {
      "cell_type": "code",
      "execution_count": null,
      "id": "c74c78db",
      "metadata": {},
      "outputs": [],
      "source": [
        "%sql $connection_string"
      ]
    },
    {
      "cell_type": "code",
      "execution_count": null,
      "id": "9e9671c0",
      "metadata": {
        "scrolled": false
      },
      "outputs": [],
      "source": [
        "%%sql \n",
        "\n",
        "SELECT * FROM cities LIMIT 10"
      ]
    },
    {
      "cell_type": "markdown",
      "id": "5cc2972b",
      "metadata": {},
      "source": [
        "## The SQL SELECT statement"
      ]
    },
    {
      "cell_type": "code",
      "execution_count": null,
      "id": "59ee7cf0",
      "metadata": {
        "scrolled": true,
        "tags": [
          "hide-output"
        ]
      },
      "outputs": [],
      "source": [
        "%%sql \n",
        "\n",
        "SELECT * FROM cities"
      ]
    },
    {
      "cell_type": "code",
      "execution_count": null,
      "id": "89348e20",
      "metadata": {
        "scrolled": false
      },
      "outputs": [],
      "source": [
        "%%sql\n",
        "\n",
        "SELECT * FROM cities LIMIT 10"
      ]
    },
    {
      "cell_type": "code",
      "execution_count": null,
      "id": "87f30083",
      "metadata": {
        "scrolled": false
      },
      "outputs": [],
      "source": [
        "%%sql\n",
        "\n",
        "SELECT name, country FROM cities LIMIT 10"
      ]
    },
    {
      "cell_type": "code",
      "execution_count": null,
      "id": "b6391e7b",
      "metadata": {},
      "outputs": [],
      "source": [
        "%%sql\n",
        "\n",
        "SELECT DISTINCT country FROM cities LIMIT 10"
      ]
    },
    {
      "cell_type": "code",
      "execution_count": null,
      "id": "1d300a8c",
      "metadata": {},
      "outputs": [],
      "source": [
        "%%sql\n",
        "\n",
        "SELECT COUNT(DISTINCT country) FROM cities"
      ]
    },
    {
      "cell_type": "code",
      "execution_count": null,
      "id": "c768b8a7",
      "metadata": {},
      "outputs": [],
      "source": [
        "%%sql\n",
        "\n",
        "SELECT MAX(population) FROM cities"
      ]
    },
    {
      "cell_type": "code",
      "execution_count": null,
      "id": "b4e18864",
      "metadata": {},
      "outputs": [],
      "source": [
        "%%sql\n",
        "\n",
        "SELECT SUM(population) FROM cities"
      ]
    },
    {
      "cell_type": "code",
      "execution_count": null,
      "id": "ed541be5",
      "metadata": {},
      "outputs": [],
      "source": [
        "%%sql\n",
        "\n",
        "SELECT AVG(population) FROM cities"
      ]
    },
    {
      "cell_type": "code",
      "execution_count": null,
      "id": "8ce50c22",
      "metadata": {},
      "outputs": [],
      "source": [
        "%%sql\n",
        "\n",
        "SELECT * FROM cities ORDER BY country LIMIT 10"
      ]
    },
    {
      "cell_type": "code",
      "execution_count": null,
      "id": "11428e5d",
      "metadata": {},
      "outputs": [],
      "source": [
        "%%sql \n",
        "\n",
        "SELECT * FROM cities ORDER BY country ASC, population DESC LIMIT 10"
      ]
    },
    {
      "cell_type": "markdown",
      "id": "49970a2a",
      "metadata": {},
      "source": [
        "## The WHERE Clause"
      ]
    },
    {
      "cell_type": "code",
      "execution_count": null,
      "id": "7c7da3de",
      "metadata": {
        "scrolled": true,
        "tags": [
          "hide-output"
        ]
      },
      "outputs": [],
      "source": [
        "%%sql\n",
        "\n",
        "SELECT * FROM cities WHERE country='USA'"
      ]
    },
    {
      "cell_type": "code",
      "execution_count": null,
      "id": "53069dbe",
      "metadata": {
        "scrolled": false,
        "tags": [
          "hide-output"
        ]
      },
      "outputs": [],
      "source": [
        "%%sql\n",
        "\n",
        "SELECT * FROM cities WHERE country='USA' OR country='CAN'"
      ]
    },
    {
      "cell_type": "code",
      "execution_count": null,
      "id": "879c7fb5",
      "metadata": {
        "tags": [
          "hide-output"
        ]
      },
      "outputs": [],
      "source": [
        "%%sql \n",
        "\n",
        "SELECT * FROM cities WHERE country='USA' AND population>1000000"
      ]
    },
    {
      "cell_type": "code",
      "execution_count": null,
      "id": "55e4be16",
      "metadata": {
        "scrolled": false,
        "tags": [
          "hide-output"
        ]
      },
      "outputs": [],
      "source": [
        "%%sql\n",
        "\n",
        "SELECT * FROM cities WHERE country LIKE 'U%'"
      ]
    },
    {
      "cell_type": "code",
      "execution_count": null,
      "id": "8750db0a",
      "metadata": {
        "tags": [
          "hide-output"
        ]
      },
      "outputs": [],
      "source": [
        "%%sql\n",
        "\n",
        "SELECT * FROM cities WHERE country LIKE '%A'"
      ]
    },
    {
      "cell_type": "code",
      "execution_count": null,
      "id": "bdb00782",
      "metadata": {
        "tags": [
          "hide-output"
        ]
      },
      "outputs": [],
      "source": [
        "%%sql \n",
        "\n",
        "SELECT * FROM cities WHERE country LIKE '_S_'"
      ]
    },
    {
      "cell_type": "code",
      "execution_count": null,
      "id": "1391090b",
      "metadata": {
        "tags": [
          "hide-output"
        ]
      },
      "outputs": [],
      "source": [
        "%%sql\n",
        "\n",
        "SELECT * FROM cities WHERE country IN ('USA', 'CAN', 'CHN')"
      ]
    },
    {
      "cell_type": "code",
      "execution_count": null,
      "id": "c76e1a9a",
      "metadata": {
        "scrolled": false,
        "tags": [
          "hide-output"
        ]
      },
      "outputs": [],
      "source": [
        "%%sql \n",
        "\n",
        "SELECT * FROM cities WHERE population BETWEEN 1000000 AND 10000000"
      ]
    },
    {
      "cell_type": "markdown",
      "id": "026bd91e",
      "metadata": {},
      "source": [
        "## SQL Joins\n",
        "\n",
        "Reference: https://www.w3schools.com/sql/sql_join.asp\n",
        "\n",
        "Here are the different types of the JOINs in SQL:\n",
        "\n",
        "- `(INNER) JOIN`: Returns records that have matching values in both tables\n",
        "- `LEFT (OUTER) JOIN`: Returns all records from the left table, and the matched records from the right table\n",
        "- `RIGHT (OUTER) JOIN`: Returns all records from the right table, and the matched records from the left table\n",
        "- `FULL (OUTER) JOIN`: Returns all records when there is a match in either left or right table\n",
        "\n",
        "![](https://i.imgur.com/mITYzuS.png)"
      ]
    },
    {
      "cell_type": "code",
      "execution_count": null,
      "id": "6cd5ebec",
      "metadata": {},
      "outputs": [],
      "source": [
        "%%sql \n",
        "\n",
        "SELECT COUNT(*) FROM cities"
      ]
    },
    {
      "cell_type": "code",
      "execution_count": null,
      "id": "009dcfda",
      "metadata": {},
      "outputs": [],
      "source": [
        "%%sql \n",
        "\n",
        "SELECT * FROM cities LIMIT 10"
      ]
    },
    {
      "cell_type": "code",
      "execution_count": null,
      "id": "871b3542",
      "metadata": {},
      "outputs": [],
      "source": [
        "%%sql \n",
        "\n",
        "SELECT COUNT(*) FROM countries"
      ]
    },
    {
      "cell_type": "code",
      "execution_count": null,
      "id": "9599dda3",
      "metadata": {},
      "outputs": [],
      "source": [
        "%%sql \n",
        "\n",
        "SELECT * FROM countries LIMIT 10"
      ]
    },
    {
      "cell_type": "markdown",
      "id": "30802ee7",
      "metadata": {},
      "source": [
        "### SQL Inner Join"
      ]
    },
    {
      "cell_type": "code",
      "execution_count": null,
      "id": "1ddd7258",
      "metadata": {
        "tags": [
          "hide-output"
        ]
      },
      "outputs": [],
      "source": [
        "%%sql\n",
        "\n",
        "SELECT * FROM cities INNER JOIN countries ON cities.country = countries.\"Alpha3_code\""
      ]
    },
    {
      "cell_type": "code",
      "execution_count": null,
      "id": "ecee1bef",
      "metadata": {
        "tags": [
          "hide-output"
        ]
      },
      "outputs": [],
      "source": [
        "%%sql\n",
        "\n",
        "SELECT name, country, countries.\"Country\" FROM cities INNER JOIN countries ON cities.country = countries.\"Alpha3_code\""
      ]
    },
    {
      "cell_type": "markdown",
      "id": "755d514c",
      "metadata": {},
      "source": [
        "### SQL Left Join"
      ]
    },
    {
      "cell_type": "code",
      "execution_count": null,
      "id": "e2ef1864",
      "metadata": {
        "tags": [
          "hide-output"
        ]
      },
      "outputs": [],
      "source": [
        "%%sql\n",
        "\n",
        "SELECT * FROM cities LEFT JOIN countries ON cities.country = countries.\"Alpha3_code\""
      ]
    },
    {
      "cell_type": "markdown",
      "id": "807ca9e9",
      "metadata": {},
      "source": [
        "### SQL Right Join"
      ]
    },
    {
      "cell_type": "code",
      "execution_count": null,
      "id": "ed11d001",
      "metadata": {
        "tags": [
          "hide-output"
        ]
      },
      "outputs": [],
      "source": [
        "%%sql\n",
        "\n",
        "SELECT * FROM cities RIGHT JOIN countries ON cities.country = countries.\"Alpha3_code\""
      ]
    },
    {
      "cell_type": "markdown",
      "id": "48f9aa33",
      "metadata": {},
      "source": [
        "### SQL Full Join"
      ]
    },
    {
      "cell_type": "code",
      "execution_count": null,
      "id": "3d52059b",
      "metadata": {
        "tags": [
          "hide-output"
        ]
      },
      "outputs": [],
      "source": [
        "%%sql\n",
        "\n",
        "SELECT * FROM cities FULL JOIN countries ON cities.country = countries.\"Alpha3_code\""
      ]
    },
    {
      "cell_type": "markdown",
      "id": "91b9ae01",
      "metadata": {},
      "source": [
        "### SQL Union"
      ]
    },
    {
      "cell_type": "code",
      "execution_count": null,
      "id": "fbd5feb0",
      "metadata": {
        "tags": [
          "hide-output"
        ]
      },
      "outputs": [],
      "source": [
        "%%sql\n",
        "\n",
        "SELECT country FROM cities\n",
        "UNION \n",
        "SELECT \"Alpha3_code\" FROM countries"
      ]
    },
    {
      "cell_type": "markdown",
      "id": "7b25c630",
      "metadata": {},
      "source": [
        "## Aggregation\n",
        "\n",
        "### Group By"
      ]
    },
    {
      "cell_type": "code",
      "execution_count": null,
      "id": "4a965f27",
      "metadata": {
        "scrolled": true,
        "tags": [
          "hide-output"
        ]
      },
      "outputs": [],
      "source": [
        "%%sql\n",
        "\n",
        "SELECT COUNT(name), country \n",
        "FROM cities \n",
        "GROUP BY country \n",
        "ORDER BY COUNT(name) DESC"
      ]
    },
    {
      "cell_type": "code",
      "execution_count": null,
      "id": "4783d29e",
      "metadata": {
        "tags": [
          "hide-output"
        ]
      },
      "outputs": [],
      "source": [
        "%%sql\n",
        "\n",
        "SELECT countries.\"Country\", COUNT(name)\n",
        "FROM cities\n",
        "LEFT JOIN countries ON cities.country = countries.\"Alpha3_code\"\n",
        "GROUP BY countries.\"Country\"\n",
        "ORDER BY COUNT(name) DESC"
      ]
    },
    {
      "cell_type": "markdown",
      "id": "5d182b27",
      "metadata": {},
      "source": [
        "### Having"
      ]
    },
    {
      "cell_type": "code",
      "execution_count": null,
      "id": "a7766032",
      "metadata": {},
      "outputs": [],
      "source": [
        "%%sql \n",
        "\n",
        "SELECT COUNT(name), country\n",
        "FROM cities\n",
        "GROUP BY country\n",
        "HAVING COUNT(name) > 40\n",
        "ORDER BY COUNT(name) DESC"
      ]
    },
    {
      "cell_type": "code",
      "execution_count": null,
      "id": "ca572bb3",
      "metadata": {},
      "outputs": [],
      "source": [
        "%%sql\n",
        "\n",
        "SELECT countries.\"Country\", COUNT(name)\n",
        "FROM cities\n",
        "LEFT JOIN countries ON cities.country = countries.\"Alpha3_code\"\n",
        "GROUP BY countries.\"Country\"\n",
        "HAVING COUNT(name) > 40\n",
        "ORDER BY COUNT(name) DESC"
      ]
    },
    {
      "cell_type": "markdown",
      "id": "fa1354e7",
      "metadata": {},
      "source": [
        "## Conditional statements"
      ]
    },
    {
      "cell_type": "code",
      "execution_count": null,
      "id": "eb1a93a6",
      "metadata": {
        "scrolled": false,
        "tags": [
          "hide-output"
        ]
      },
      "outputs": [],
      "source": [
        "%%sql\n",
        "\n",
        "SELECT name, population,\n",
        "CASE\n",
        "    WHEN population > 10000000 THEN 'Megacity'\n",
        "    WHEN population > 1000000 THEN 'Large city'\n",
        "    ELSE 'Small city'\n",
        "END AS category\n",
        "FROM cities"
      ]
    },
    {
      "cell_type": "markdown",
      "id": "159fa9dd",
      "metadata": {},
      "source": [
        "## Saving results"
      ]
    },
    {
      "cell_type": "code",
      "execution_count": null,
      "id": "af860ff1",
      "metadata": {},
      "outputs": [],
      "source": [
        "%%sql\n",
        "\n",
        "SELECT *\n",
        "INTO cities_new\n",
        "FROM cities"
      ]
    },
    {
      "cell_type": "code",
      "execution_count": null,
      "id": "bd59244b",
      "metadata": {},
      "outputs": [],
      "source": [
        "%%sql\n",
        "\n",
        "DROP TABLE IF EXISTS cities_usa;\n",
        "\n",
        "SELECT *\n",
        "INTO cities_usa\n",
        "FROM cities\n",
        "WHERE country = 'USA'"
      ]
    },
    {
      "cell_type": "code",
      "execution_count": null,
      "id": "26517da3",
      "metadata": {},
      "outputs": [],
      "source": [
        "%%sql \n",
        "\n",
        "INSERT INTO cities_usa\n",
        "SELECT *\n",
        "FROM cities\n",
        "WHERE country = 'CAN'"
      ]
    },
    {
      "cell_type": "markdown",
      "id": "f7084a8e",
      "metadata": {},
      "source": [
        "## SQL Comments\n",
        "\n",
        "### Single line comments"
      ]
    },
    {
      "cell_type": "code",
      "execution_count": null,
      "id": "47b0d137",
      "metadata": {},
      "outputs": [],
      "source": [
        "%%sql\n",
        "\n",
        "SELECT * FROM cities LIMIT 10 -- This is a comment;"
      ]
    },
    {
      "cell_type": "markdown",
      "id": "63207ba2",
      "metadata": {},
      "source": [
        "### Multi-line comments"
      ]
    },
    {
      "cell_type": "code",
      "execution_count": null,
      "id": "34f59c7a",
      "metadata": {},
      "outputs": [],
      "source": [
        "%%sql\n",
        "\n",
        "SELECT COUNT(name), country \n",
        "FROM cities \n",
        "/*\n",
        " * Adding Group by\n",
        " * Adding Order by\n",
        " */\n",
        "GROUP BY country \n",
        "ORDER BY COUNT(name) DESC\n",
        "LIMIT 10"
      ]
    },
    {
      "cell_type": "code",
      "execution_count": null,
      "id": "b6656072",
      "metadata": {},
      "outputs": [],
      "source": []
    }
  ],
  "metadata": {
    "celltoolbar": "Tags",
    "hide_input": false,
    "kernelspec": {
      "display_name": "Python 3",
      "language": "python",
      "name": "python3"
    },
    "language_info": {
      "codemirror_mode": {
        "name": "ipython",
        "version": 3
      },
      "file_extension": ".py",
      "mimetype": "text/x-python",
      "name": "python",
      "nbconvert_exporter": "python",
      "pygments_lexer": "ipython3",
      "version": "3.9.2"
    },
    "toc": {
      "base_numbering": 1,
      "nav_menu": {},
      "number_sections": true,
      "sideBar": true,
      "skip_h1_title": false,
      "title_cell": "Table of Contents",
      "title_sidebar": "Contents",
      "toc_cell": false,
      "toc_position": {},
      "toc_section_display": true,
      "toc_window_display": false
    },
    "varInspector": {
      "cols": {
        "lenName": 16,
        "lenType": 16,
        "lenVar": 40
      },
      "kernels_config": {
        "python": {
          "delete_cmd_postfix": "",
          "delete_cmd_prefix": "del ",
          "library": "var_list.py",
          "varRefreshCmd": "print(var_dic_list())"
        },
        "r": {
          "delete_cmd_postfix": ") ",
          "delete_cmd_prefix": "rm(",
          "library": "var_list.r",
          "varRefreshCmd": "cat(var_dic_list()) "
        }
      },
      "types_to_exclude": [
        "module",
        "function",
        "builtin_function_or_method",
        "instance",
        "_Feature"
      ],
      "window_display": false
    }
  },
  "nbformat": 4,
  "nbformat_minor": 5
}
