{
 "cells": [
  {
   "cell_type": "markdown",
   "id": "70daea7a",
   "metadata": {},
   "source": [
    "# Spatial Data Management\n",
    "\n",
    "This website is for the _Spatial Data Management_ course (GEOG-414) that I teach in Fall 2023 at the University of Tennessee, Knoxville.\n",
    "\n",
    "## Recommended Textbooks\n",
    "\n",
    "- Qiusheng Wu (2023). _Earth Engine and Geemap: Geospatial Data Science with Python_. Locate Press. ([Publisher website](https://locatepress.com/book/gee) | [Book website](https://geog-414.gishub.org/) | [GitHub](https://github.com/giswqs/geog-414))\n",
    "- Charles Severance. (2016). _Python for Everybody: Exploring Data in Python 3_. ([PDF](https://www.py4e.com/book))\n",
    "- Eric Matthes. (2023). _Python Crash Course: A Hands-On, Project-Based Introduction to Programming_. 3rd Edition. No Starch Press. ([Publisher website](https://nostarch.com/python-crash-course-3rd-edition) | [Book website](https://ehmatthes.github.io/pcc_3e))\n",
    "- _Introduction to PostGIS_. https://postgis.net/workshops/postgis-intro\n",
    "\n",
    "## Demos\n",
    "\n",
    "![](https://i.imgur.com/ZfZCdhL.png)"
   ]
  }
 ],
 "metadata": {
  "jupytext": {
   "text_representation": {
    "extension": ".md",
    "format_name": "myst",
    "format_version": 0.13,
    "jupytext_version": "1.11.5"
   }
  },
  "kernelspec": {
   "display_name": "Python 3",
   "language": "python",
   "name": "python3"
  },
  "source_map": [
   12
  ]
 },
 "nbformat": 4,
 "nbformat_minor": 5
}