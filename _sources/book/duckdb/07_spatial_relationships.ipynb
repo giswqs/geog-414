{
 "cells": [
  {
   "cell_type": "markdown",
   "id": "0",
   "metadata": {},
   "source": [
    "# Spatial Relationships\n",
    "\n",
    "## Introduction\n",
    "\n",
    "This notebook demonstrates how to analyze spatial relationships between features in a dataset. \n",
    "\n",
    "## Installation\n",
    "\n",
    "Uncomment the following cell to install the required packages if needed."
   ]
  },
  {
   "cell_type": "code",
   "execution_count": null,
   "id": "1",
   "metadata": {},
   "outputs": [],
   "source": [
    "# %pip install duckdb leafmap"
   ]
  },
  {
   "cell_type": "markdown",
   "id": "2",
   "metadata": {},
   "source": [
    "## Library Import and Configuration"
   ]
  },
  {
   "cell_type": "code",
   "execution_count": null,
   "id": "3",
   "metadata": {},
   "outputs": [],
   "source": [
    "import duckdb\n",
    "import leafmap"
   ]
  },
  {
   "cell_type": "markdown",
   "id": "4",
   "metadata": {},
   "source": [
    "## Sample Data\n",
    "\n",
    "The datasets in the database are in NAD83 / UTM zone 18N projection, EPSG:26918."
   ]
  },
  {
   "cell_type": "code",
   "execution_count": null,
   "id": "5",
   "metadata": {},
   "outputs": [],
   "source": [
    "url = \"https://opengeos.org/data/duckdb/nyc_data.db.zip\"\n",
    "leafmap.download_file(url, unzip=True)"
   ]
  },
  {
   "cell_type": "markdown",
   "id": "6",
   "metadata": {},
   "source": [
    "## Connecting to DuckDB\n",
    "\n",
    "Connect jupysql to DuckDB using a SQLAlchemy-style connection string. You may either connect to an in memory DuckDB, or a file backed db."
   ]
  },
  {
   "cell_type": "code",
   "execution_count": null,
   "id": "7",
   "metadata": {},
   "outputs": [],
   "source": [
    "con = duckdb.connect(\"nyc_data.db\")"
   ]
  },
  {
   "cell_type": "code",
   "execution_count": null,
   "id": "8",
   "metadata": {},
   "outputs": [],
   "source": [
    "con.install_extension(\"spatial\")\n",
    "con.load_extension(\"spatial\")"
   ]
  },
  {
   "cell_type": "code",
   "execution_count": null,
   "id": "9",
   "metadata": {},
   "outputs": [],
   "source": [
    "con.sql(\"SHOW TABLES;\")"
   ]
  },
  {
   "cell_type": "code",
   "execution_count": null,
   "id": "10",
   "metadata": {},
   "outputs": [],
   "source": [
    "con.sql(\"SELECT * from nyc_subway_stations LIMIT 5\")"
   ]
  },
  {
   "cell_type": "markdown",
   "id": "11",
   "metadata": {},
   "source": [
    "## Spatial Relationships\n",
    "\n",
    "So far we have only used spatial functions that measure (`ST_Area`,\n",
    "`ST_Length`), serialize (`ST_GeomFromText`) or deserialize (`ST_AsGML`)\n",
    "geometries. What these functions have in common is that they only work\n",
    "on one geometry at a time.\n",
    "\n",
    "Spatial databases are powerful because they not only store geometry,\n",
    "they also have the ability to compare *relationships between\n",
    "geometries*.\n",
    "\n",
    "Questions like \"Which are the closest bike racks to a park?\" or \"Where\n",
    "are the intersections of subway lines and streets?\" can only be answered\n",
    "by comparing geometries representing the bike racks, streets, and subway\n",
    "lines.\n",
    "\n",
    "The OGC standard defines the following set of methods to compare\n",
    "geometries."
   ]
  },
  {
   "cell_type": "markdown",
   "id": "12",
   "metadata": {},
   "source": [
    "## ST_Equals\n",
    "\n",
    "`ST_Equals(geometry A, geometry B)`tests the spatial equality of two geometries.\n",
    "\n",
    "![](https://postgis.net/workshops/postgis-intro/_images/st_equals.png)\n",
    "\n",
    "ST_Equals returns TRUE if two geometries of the same type have identical\n",
    "x,y coordinate values, i.e. if the second shape is equal (identical) to\n",
    "the first shape.\n",
    "\n",
    "First, let\\'s retrieve a representation of a point from our\n",
    "`nyc_subway_stations` table. We\\'ll take just the entry for \\'Broad\n",
    "St\\'."
   ]
  },
  {
   "cell_type": "code",
   "execution_count": null,
   "id": "13",
   "metadata": {},
   "outputs": [],
   "source": [
    "con.sql(\n",
    "    \"\"\"\n",
    "SELECT name, geom, ST_AsText(geom)\n",
    "FROM nyc_subway_stations\n",
    "WHERE name = 'Broad St';\n",
    "\"\"\"\n",
    ")"
   ]
  },
  {
   "cell_type": "markdown",
   "id": "14",
   "metadata": {},
   "source": [
    "Then, plug the geometry representation back into an\n",
    "`ST_Equals` test:"
   ]
  },
  {
   "cell_type": "code",
   "execution_count": null,
   "id": "15",
   "metadata": {},
   "outputs": [],
   "source": [
    "con.sql(\n",
    "    \"\"\"\n",
    "SELECT name\n",
    "FROM nyc_subway_stations\n",
    "WHERE ST_Equals(geom, ST_GeomFromText('POINT (583571.9059213118 4506714.341192182)'));\n",
    "\"\"\"\n",
    ")"
   ]
  },
  {
   "cell_type": "markdown",
   "id": "16",
   "metadata": {},
   "source": [
    "## ST_Intersects, ST_Disjoint, ST_Crosses and ST_Overlaps\n",
    "\n",
    "`ST_Intersects`,\n",
    "`ST_Crosses`, and\n",
    "`ST_Overlaps` test whether the\n",
    "interiors of the geometries intersect.\n",
    "\n",
    "![](https://postgis.net/workshops/postgis-intro/_images/st_intersects.png)\n",
    "\n",
    "`ST_Intersects(geometry A, geometry B)` returns t (TRUE) if the two shapes have any space in\n",
    "common, i.e., if their boundaries or interiors intersect.\n",
    "\n",
    "![](https://postgis.net/workshops/postgis-intro/_images/st_disjoint.png)\n",
    "\n",
    "The opposite of ST_Intersects is\n",
    "`ST_Disjoint(geometry A , geometry B)`. If two geometries are disjoint, they do not intersect,\n",
    "and vice-versa. In fact, it is often more efficient to test \\\"not\n",
    "intersects\\\" than to test \\\"disjoint\\\" because the intersects tests can\n",
    "be spatially indexed, while the disjoint test cannot.\n",
    "\n",
    "![](https://postgis.net/workshops/postgis-intro/_images/st_crosses.png)\n",
    "\n",
    "For multipoint/polygon, multipoint/linestring, linestring/linestring,\n",
    "linestring/polygon, and linestring/multipolygon comparisons,\n",
    "`ST_Crosses(geometry A, geometry B)`\n",
    "returns t (TRUE) if the intersection results in a geometry whose\n",
    "dimension is one less than the maximum dimension of the two source\n",
    "geometries and the intersection set is interior to both source\n",
    "geometries.\n",
    "\n",
    "![](https://postgis.net/workshops/postgis-intro/_images/st_overlaps.png)\n",
    "\n",
    "`ST_Overlaps(geometry A, geometry B)`\n",
    "compares two geometries of the same dimension and returns TRUE if their\n",
    "intersection set results in a geometry different from both but of the\n",
    "same dimension.\n",
    "\n",
    "Let\\'s take our Broad Street subway station and determine its\n",
    "neighborhood using the `ST_Intersects`\n",
    "function:"
   ]
  },
  {
   "cell_type": "code",
   "execution_count": null,
   "id": "17",
   "metadata": {},
   "outputs": [],
   "source": [
    "con.sql(\n",
    "    \"\"\"\n",
    "SELECT name, ST_AsText(geom)\n",
    "FROM nyc_subway_stations\n",
    "WHERE name = 'Broad St';\n",
    "\"\"\"\n",
    ")"
   ]
  },
  {
   "cell_type": "code",
   "execution_count": null,
   "id": "18",
   "metadata": {},
   "outputs": [],
   "source": [
    "con.sql(\"FROM nyc_neighborhoods LIMIT 5\")"
   ]
  },
  {
   "cell_type": "code",
   "execution_count": null,
   "id": "19",
   "metadata": {},
   "outputs": [],
   "source": [
    "con.sql(\n",
    "    \"\"\"\n",
    "SELECT name, boroname\n",
    "FROM nyc_neighborhoods\n",
    "WHERE ST_Intersects(geom, ST_GeomFromText('POINT(583571 4506714)'));\n",
    "\"\"\"\n",
    ")"
   ]
  },
  {
   "cell_type": "markdown",
   "id": "20",
   "metadata": {},
   "source": [
    "## ST_Touches\n",
    "\n",
    "`ST_Touches` tests whether two\n",
    "geometries touch at their boundaries, but do not intersect in their\n",
    "interiors\n",
    "\n",
    "![](https://postgis.net/workshops/postgis-intro/_images/st_touches.png)\n",
    "\n",
    "`ST_Touches(geometry A, geometry B)`\n",
    "returns TRUE if either of the geometries\\' boundaries intersect or if\n",
    "only one of the geometry\\'s interiors intersects the other\\'s boundary.\n",
    "\n",
    "## ST_Within and ST_Contains\n",
    "\n",
    "`ST_Within` and\n",
    "`ST_Contains` test whether one\n",
    "geometry is fully within the other.\n",
    "\n",
    "![](https://postgis.net/workshops/postgis-intro/_images/st_within.png)\n",
    "\n",
    "`ST_Within(geometry A , geometry B)`\n",
    "returns TRUE if the first geometry is completely within the second\n",
    "geometry. ST_Within tests for the exact opposite result of ST_Contains.\n",
    "\n",
    "`ST_Contains(geometry A, geometry B)`\n",
    "returns TRUE if the second geometry is completely contained by the first\n",
    "geometry.\n",
    "\n",
    "## ST_Distance and ST_DWithin\n",
    "\n",
    "An extremely common GIS question is \\\"find all the stuff within distance\n",
    "X of this other stuff\\\".\n",
    "\n",
    "The `ST_Distance(geometry A, geometry B)` calculates the *shortest* distance between two\n",
    "geometries and returns it as a float. This is useful for actually\n",
    "reporting back the distance between objects."
   ]
  },
  {
   "cell_type": "code",
   "execution_count": null,
   "id": "21",
   "metadata": {},
   "outputs": [],
   "source": [
    "con.sql(\n",
    "    \"\"\"\n",
    "SELECT ST_Distance(\n",
    "  ST_GeomFromText('POINT(0 5)'),\n",
    "  ST_GeomFromText('LINESTRING(-2 2, 2 2)')) as dist;\n",
    "\"\"\"\n",
    ")"
   ]
  },
  {
   "cell_type": "markdown",
   "id": "22",
   "metadata": {},
   "source": [
    "For testing whether two objects are within a distance of one another,\n",
    "the `ST_DWithin` function provides an\n",
    "index-accelerated true/false test. This is useful for questions like\n",
    "\\\"how many trees are within a 500 meter buffer of the road?\\\". You\n",
    "don\\'t have to calculate an actual buffer, you just have to test the\n",
    "distance relationship.\n",
    "\n",
    "![](https://postgis.net/workshops/postgis-intro/_images/st_dwithin.png)\n",
    "\n",
    "Using our Broad Street subway station again, we can find the streets\n",
    "nearby (within 10 meters of) the subway stop:"
   ]
  },
  {
   "cell_type": "code",
   "execution_count": null,
   "id": "23",
   "metadata": {},
   "outputs": [],
   "source": [
    "con.sql(\"FROM nyc_streets LIMIT 5\")"
   ]
  },
  {
   "cell_type": "code",
   "execution_count": null,
   "id": "24",
   "metadata": {},
   "outputs": [],
   "source": [
    "con.sql(\n",
    "    \"\"\"\n",
    "SELECT name\n",
    "FROM nyc_streets\n",
    "WHERE ST_DWithin(\n",
    "        geom,\n",
    "        ST_GeomFromText('POINT(583571 4506714)'),\n",
    "        10\n",
    "      );\n",
    "\"\"\"\n",
    ")"
   ]
  },
  {
   "cell_type": "markdown",
   "id": "25",
   "metadata": {},
   "source": [
    "And we can verify the answer on a map. The Broad St station is actually\n",
    "at the intersection of Wall, Broad and Nassau Streets.\n",
    "\n",
    "![image](https://postgis.net/workshops/postgis-intro/_images/broad_st.jpg)\n",
    "\n",
    "## Function List\n",
    "\n",
    "[ST_Contains(geometry A, geometry\n",
    "B)](http://postgis.net/docs/ST_Contains.html): Returns true if and only\n",
    "if no points of B lie in the exterior of A, and at least one point of\n",
    "the interior of B lies in the interior of A.\n",
    "\n",
    "[ST_Crosses(geometry A, geometry\n",
    "B)](http://postgis.net/docs/ST_Crosses.html): Returns TRUE if the\n",
    "supplied geometries have some, but not all, interior points in common.\n",
    "\n",
    "[ST_Disjoint(geometry A , geometry\n",
    "B)](http://postgis.net/docs/ST_Disjoint.html): Returns TRUE if the\n",
    "Geometries do not \\\"spatially intersect\\\" - if they do not share any\n",
    "space together.\n",
    "\n",
    "[ST_Distance(geometry A, geometry\n",
    "B)](http://postgis.net/docs/ST_Distance.html): Returns the 2-dimensional\n",
    "cartesian minimum distance (based on spatial ref) between two geometries\n",
    "in projected units.\n",
    "\n",
    "[ST_DWithin(geometry A, geometry B,\n",
    "radius)](http://postgis.net/docs/ST_DWithin.html): Returns true if the\n",
    "geometries are within the specified distance (radius) of one another.\n",
    "\n",
    "[ST_Equals(geometry A, geometry\n",
    "B)](http://postgis.net/docs/ST_Equals.html): Returns true if the given\n",
    "geometries represent the same geometry. Directionality is ignored.\n",
    "\n",
    "[ST_Intersects(geometry A, geometry\n",
    "B)](http://postgis.net/docs/ST_Intersects.html): Returns TRUE if the\n",
    "Geometries/Geography \\\"spatially intersect\\\" - (share any portion of\n",
    "space) and FALSE if they don\\'t (they are Disjoint).\n",
    "\n",
    "[ST_Overlaps(geometry A, geometry\n",
    "B)](http://postgis.net/docs/ST_Overlaps.html): Returns TRUE if the\n",
    "Geometries share space, are of the same dimension, but are not\n",
    "completely contained by each other.\n",
    "\n",
    "[ST_Touches(geometry A, geometry\n",
    "B)](http://postgis.net/docs/ST_Touches.html): Returns TRUE if the\n",
    "geometries have at least one point in common, but their interiors do not\n",
    "intersect.\n",
    "\n",
    "[ST_Within(geometry A , geometry\n",
    "B)](http://postgis.net/docs/ST_Within.html): Returns true if the\n",
    "geometry A is completely inside geometry B\n"
   ]
  }
 ],
 "metadata": {
  "hide_input": false,
  "kernelspec": {
   "display_name": "Python 3",
   "language": "python",
   "name": "python3"
  },
  "language_info": {
   "codemirror_mode": {
    "name": "ipython",
    "version": 3
   },
   "file_extension": ".py",
   "mimetype": "text/x-python",
   "name": "python",
   "nbconvert_exporter": "python",
   "pygments_lexer": "ipython3",
   "version": "3.11.5"
  },
  "toc": {
   "base_numbering": 1,
   "nav_menu": {},
   "number_sections": true,
   "sideBar": true,
   "skip_h1_title": false,
   "title_cell": "Table of Contents",
   "title_sidebar": "Contents",
   "toc_cell": false,
   "toc_position": {},
   "toc_section_display": true,
   "toc_window_display": true
  },
  "varInspector": {
   "cols": {
    "lenName": 16,
    "lenType": 16,
    "lenVar": 40
   },
   "kernels_config": {
    "python": {
     "delete_cmd_postfix": "",
     "delete_cmd_prefix": "del ",
     "library": "var_list.py",
     "varRefreshCmd": "print(var_dic_list())"
    },
    "r": {
     "delete_cmd_postfix": ") ",
     "delete_cmd_prefix": "rm(",
     "library": "var_list.r",
     "varRefreshCmd": "cat(var_dic_list()) "
    }
   },
   "types_to_exclude": [
    "module",
    "function",
    "builtin_function_or_method",
    "instance",
    "_Feature"
   ],
   "window_display": false
  }
 },
 "nbformat": 4,
 "nbformat_minor": 5
}
