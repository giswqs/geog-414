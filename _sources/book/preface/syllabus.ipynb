{
 "cells": [
  {
   "cell_type": "markdown",
   "id": "0",
   "metadata": {},
   "source": [
    "# Syllabus\n",
    "\n",
    "The course syllabus is available at <https://sites.google.com/utk.edu/geog-414/syllabus>. You are welcome to check out the syllabus and let me know if you have any questions.\n",
    "\n",
    "<iframe src=\"https://docs.google.com/document/d/e/2PACX-1vRVE2ze_l7BUTgLp2vNeYanAnXvECT0h9m3kneExXzQjw5lutg1lQ8tYTAD4LLW2nU_2eg5SzwsBgJw/pub?embedded=true\" width=\"100%\" height=800></iframe>"
   ]
  }
 ],
 "metadata": {
  "kernelspec": {
   "display_name": "Python 3",
   "language": "python",
   "name": "python3"
  }
 },
 "nbformat": 4,
 "nbformat_minor": 5
}
